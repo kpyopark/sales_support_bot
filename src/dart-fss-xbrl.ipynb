{
 "cells": [
  {
   "cell_type": "code",
   "execution_count": 1,
   "metadata": {},
   "outputs": [
    {
     "data": {
      "text/plain": [
       "'d0d52f788a9f1308869b2a0c1ac2377f342d9c06'"
      ]
     },
     "execution_count": 1,
     "metadata": {},
     "output_type": "execute_result"
    }
   ],
   "source": [
    "import dart_fss as dart\n",
    "import os\n",
    "\n",
    "# Open DART API KEY 설정\n",
    "api_key=os.getenv('DART_API_KEY')\n",
    "dart.set_api_key(api_key=api_key)"
   ]
  },
  {
   "cell_type": "code",
   "execution_count": 2,
   "metadata": {},
   "outputs": [
    {
     "name": "stdout",
     "output_type": "stream",
     "text": [
      "AAA\n",
      "BBB\n",
      "BBB\n",
      "BBB\n",
      "CCC\n",
      "DDD\n",
      "Number of companies: 103386\n"
     ]
    }
   ],
   "source": [
    "print(dart.get_corp_list())"
   ]
  },
  {
   "cell_type": "code",
   "execution_count": 3,
   "metadata": {},
   "outputs": [],
   "source": [
    "list = dart.get_corp_list()\n"
   ]
  },
  {
   "cell_type": "code",
   "execution_count": 4,
   "metadata": {},
   "outputs": [],
   "source": [
    "target_list = list.find_by_corp_name('카카오모빌리티')"
   ]
  },
  {
   "cell_type": "code",
   "execution_count": 5,
   "metadata": {},
   "outputs": [
    {
     "name": "stdout",
     "output_type": "stream",
     "text": [
      "01250666\n"
     ]
    }
   ],
   "source": [
    "print(target_list[0].corp_code)"
   ]
  },
  {
   "cell_type": "code",
   "execution_count": 12,
   "metadata": {},
   "outputs": [],
   "source": [
    "target_corp = list.find_by_corp_name(target_list[0].corp_name)[0]\n"
   ]
  },
  {
   "cell_type": "code",
   "execution_count": 93,
   "metadata": {},
   "outputs": [
    {
     "name": "stdout",
     "output_type": "stream",
     "text": [
      "[01250666]카카오모빌리티\n"
     ]
    }
   ],
   "source": [
    "print(target_corp)"
   ]
  },
  {
   "cell_type": "code",
   "execution_count": 92,
   "metadata": {},
   "outputs": [
    {
     "data": {
      "text/plain": [
       "[[00103042]케이씨티시,\n",
       " [00113410]CJ대한통운,\n",
       " [00127909]삼일,\n",
       " [00129509]한익스프레스,\n",
       " [00151368]인터지스,\n",
       " [00133812]세방,\n",
       " [00163512]한진,\n",
       " [00104519]국보]"
      ]
     },
     "execution_count": 92,
     "metadata": {},
     "output_type": "execute_result"
    }
   ],
   "source": [
    "list.find_by_sector(\"도로 화물 운송업\")"
   ]
  },
  {
   "cell_type": "code",
   "execution_count": 87,
   "metadata": {},
   "outputs": [],
   "source": [
    "reports = target_corp.search_filings(bgn_de='20190301')"
   ]
  },
  {
   "cell_type": "code",
   "execution_count": 88,
   "metadata": {},
   "outputs": [
    {
     "data": {
      "text/html": [
       "\n",
       "    <style scoped>\n",
       "        .dart-table tbody tr th {\n",
       "            vertical-align: top;\n",
       "            text-overflow: ellipsis;\n",
       "        }\n",
       "        .dart-table thead th {\n",
       "            text-align: right;\n",
       "            text-overflow: ellipsis;\n",
       "        }\n",
       "    </style>\n",
       "    <table border=\"1\" class=\"dart-table\"><thead><tr style=\"text-align: right;\"><th>Label</th><th>Data</th></tr></thead><tbody><tr><th>page_no</th><td>1</td></tr><tr><th>page_count</th><td>10</td></tr><tr><th>total_count</th><td>77</td></tr><tr><th>total_page</th><td>8</td></tr><tr><th>report_list</th><td><table style=\"width:100%\"><thead><tr><th width=\"20\">No.</th><th>rcp_no</th><th>corp_code</th><th>corp_name</th><th>stock_code</th><th>corp_cls</th><th>report_nm</th><th>flr_nm</th><th>rcept_dt</th><th>rm</th></tr></thead><tbody><tr><th width=\"20\">0</th><td>20230830000794</td><td>01250666</td><td>카카오모빌리티</td><td></td><td>E</td><td>대규모기업집단현황공시[분기별공시(개별회사용)]</td><td>카카오모빌리티</td><td>20230830</td><td>공</td></tr><tr><th width=\"20\">1</th><td>20230829000696</td><td>01250666</td><td>카카오모빌리티</td><td></td><td>E</td><td>반기보고서 (2023.06)</td><td>카카오모빌리티</td><td>20230829</td><td></td></tr><tr><th width=\"20\">2</th><td>20230814002812</td><td>01250666</td><td>카카오모빌리티</td><td></td><td>E</td><td>지급수단별ㆍ지급기간별지급금액및분쟁조정기구에관한사항</td><td>카카오모빌리티</td><td>20230814</td><td>공</td></tr><tr><th width=\"20\">3</th><td>20230808000387</td><td>01250666</td><td>카카오모빌리티</td><td></td><td>E</td><td>특수관계인에대한자금대여</td><td>카카오모빌리티</td><td>20230808</td><td>공</td></tr><tr><th width=\"20\">4</th><td>20230531003050</td><td>01250666</td><td>카카오모빌리티</td><td></td><td>E</td><td>대규모기업집단현황공시[연1회공시및1/4분기용(개별회사)]</td><td>카카오모빌리티</td><td>20230531</td><td>공</td></tr><tr><th width=\"20\">5</th><td>20230530000714</td><td>01250666</td><td>카카오모빌리티</td><td></td><td>E</td><td>분기보고서 (2023.03)</td><td>카카오모빌리티</td><td>20230530</td><td></td></tr><tr><th width=\"20\">6</th><td>20230407003310</td><td>01250666</td><td>카카오모빌리티</td><td></td><td>E</td><td>회사합병결정</td><td>카카오모빌리티</td><td>20230407</td><td>공</td></tr><tr><th width=\"20\">7</th><td>20230331003526</td><td>01250666</td><td>카카오모빌리티</td><td></td><td>E</td><td>사업보고서 (2022.12)</td><td>카카오모빌리티</td><td>20230331</td><td>연</td></tr><tr><th width=\"20\">8</th><td>20230306000472</td><td>01250666</td><td>카카오모빌리티</td><td></td><td>E</td><td>유상증자결정</td><td>카카오모빌리티</td><td>20230306</td><td>공</td></tr><tr><th width=\"20\">9</th><td>20230228006785</td><td>01250666</td><td>카카오모빌리티</td><td></td><td>E</td><td>임원의변동</td><td>카카오모빌리티</td><td>20230228</td><td>공</td></tr></tbody></table></td></tr></tbody></table>"
      ],
      "text/plain": [
       "{'page_count': 10,\n",
       " 'page_no': 1,\n",
       " 'report_list': [{'corp_cls': 'E',\n",
       "                  'corp_code': '01250666',\n",
       "                  'corp_name': '카카오모빌리티',\n",
       "                  'flr_nm': '카카오모빌리티',\n",
       "                  'rcept_dt': '20230830',\n",
       "                  'rcp_no': '20230830000794',\n",
       "                  'report_nm': '대규모기업집단현황공시[분기별공시(개별회사용)]',\n",
       "                  'rm': '공',\n",
       "                  'stock_code': ''},\n",
       "                 {'corp_cls': 'E',\n",
       "                  'corp_code': '01250666',\n",
       "                  'corp_name': '카카오모빌리티',\n",
       "                  'flr_nm': '카카오모빌리티',\n",
       "                  'rcept_dt': '20230829',\n",
       "                  'rcp_no': '20230829000696',\n",
       "                  'report_nm': '반기보고서 (2023.06)',\n",
       "                  'rm': '',\n",
       "                  'stock_code': ''},\n",
       "                 {'corp_cls': 'E',\n",
       "                  'corp_code': '01250666',\n",
       "                  'corp_name': '카카오모빌리티',\n",
       "                  'flr_nm': '카카오모빌리티',\n",
       "                  'rcept_dt': '20230814',\n",
       "                  'rcp_no': '20230814002812',\n",
       "                  'report_nm': '지급수단별ㆍ지급기간별지급금액및분쟁조정기구에관한사항',\n",
       "                  'rm': '공',\n",
       "                  'stock_code': ''},\n",
       "                 {'corp_cls': 'E',\n",
       "                  'corp_code': '01250666',\n",
       "                  'corp_name': '카카오모빌리티',\n",
       "                  'flr_nm': '카카오모빌리티',\n",
       "                  'rcept_dt': '20230808',\n",
       "                  'rcp_no': '20230808000387',\n",
       "                  'report_nm': '특수관계인에대한자금대여',\n",
       "                  'rm': '공',\n",
       "                  'stock_code': ''},\n",
       "                 {'corp_cls': 'E',\n",
       "                  'corp_code': '01250666',\n",
       "                  'corp_name': '카카오모빌리티',\n",
       "                  'flr_nm': '카카오모빌리티',\n",
       "                  'rcept_dt': '20230531',\n",
       "                  'rcp_no': '20230531003050',\n",
       "                  'report_nm': '대규모기업집단현황공시[연1회공시및1/4분기용(개별회사)]',\n",
       "                  'rm': '공',\n",
       "                  'stock_code': ''},\n",
       "                 {'corp_cls': 'E',\n",
       "                  'corp_code': '01250666',\n",
       "                  'corp_name': '카카오모빌리티',\n",
       "                  'flr_nm': '카카오모빌리티',\n",
       "                  'rcept_dt': '20230530',\n",
       "                  'rcp_no': '20230530000714',\n",
       "                  'report_nm': '분기보고서 (2023.03)',\n",
       "                  'rm': '',\n",
       "                  'stock_code': ''},\n",
       "                 {'corp_cls': 'E',\n",
       "                  'corp_code': '01250666',\n",
       "                  'corp_name': '카카오모빌리티',\n",
       "                  'flr_nm': '카카오모빌리티',\n",
       "                  'rcept_dt': '20230407',\n",
       "                  'rcp_no': '20230407003310',\n",
       "                  'report_nm': '회사합병결정',\n",
       "                  'rm': '공',\n",
       "                  'stock_code': ''},\n",
       "                 {'corp_cls': 'E',\n",
       "                  'corp_code': '01250666',\n",
       "                  'corp_name': '카카오모빌리티',\n",
       "                  'flr_nm': '카카오모빌리티',\n",
       "                  'rcept_dt': '20230331',\n",
       "                  'rcp_no': '20230331003526',\n",
       "                  'report_nm': '사업보고서 (2022.12)',\n",
       "                  'rm': '연',\n",
       "                  'stock_code': ''},\n",
       "                 {'corp_cls': 'E',\n",
       "                  'corp_code': '01250666',\n",
       "                  'corp_name': '카카오모빌리티',\n",
       "                  'flr_nm': '카카오모빌리티',\n",
       "                  'rcept_dt': '20230306',\n",
       "                  'rcp_no': '20230306000472',\n",
       "                  'report_nm': '유상증자결정',\n",
       "                  'rm': '공',\n",
       "                  'stock_code': ''},\n",
       "                 {'corp_cls': 'E',\n",
       "                  'corp_code': '01250666',\n",
       "                  'corp_name': '카카오모빌리티',\n",
       "                  'flr_nm': '카카오모빌리티',\n",
       "                  'rcept_dt': '20230228',\n",
       "                  'rcp_no': '20230228006785',\n",
       "                  'report_nm': '임원의변동',\n",
       "                  'rm': '공',\n",
       "                  'stock_code': ''}],\n",
       " 'total_count': 77,\n",
       " 'total_page': 8}"
      ]
     },
     "execution_count": 88,
     "metadata": {},
     "output_type": "execute_result"
    }
   ],
   "source": [
    "reports"
   ]
  },
  {
   "cell_type": "code",
   "execution_count": 22,
   "metadata": {},
   "outputs": [],
   "source": [
    "latest_reports = reports[1]"
   ]
  },
  {
   "cell_type": "code",
   "execution_count": 89,
   "metadata": {},
   "outputs": [],
   "source": [
    "def getXBRLInformation(company_name):\n",
    "  target_list = list.find_by_corp_name(company_name)\n",
    "  target_corp = list.find_by_corp_name(target_list[0].corp_name)[0]\n",
    "  reports = target_corp.search_filings(bgn_de='20190301')\n",
    "  for report in reports:\n",
    "    if report.xbrl is not None:\n",
    "      return report.xbrl\n",
    "  return None\n"
   ]
  },
  {
   "cell_type": "code",
   "execution_count": 17,
   "metadata": {},
   "outputs": [
    {
     "name": "stdout",
     "output_type": "stream",
     "text": [
      "{'corp_cls': 'E',\n",
      " 'corp_code': '01250666',\n",
      " 'corp_name': '카카오모빌리티',\n",
      " 'flr_nm': '카카오모빌리티',\n",
      " 'rcept_dt': '20230830',\n",
      " 'rcp_no': '20230830000794',\n",
      " 'report_nm': '대규모기업집단현황공시[분기별공시(개별회사용)]',\n",
      " 'rm': '공',\n",
      " 'stock_code': ''}\n"
     ]
    }
   ],
   "source": [
    "print(latest_reports)"
   ]
  },
  {
   "cell_type": "code",
   "execution_count": 23,
   "metadata": {},
   "outputs": [
    {
     "name": "stdout",
     "output_type": "stream",
     "text": [
      "{'Document information [text block]': nan, 'Document title': 'Half Year Report', 'Amendment': 'false', 'Document creation date': '2023-08-24', 'Restatement of comparative financial statements': 'true'}\n"
     ]
    }
   ],
   "source": [
    "print(latest_reports.xbrl)"
   ]
  },
  {
   "cell_type": "code",
   "execution_count": 24,
   "metadata": {},
   "outputs": [],
   "source": [
    "xbrl = latest_reports.xbrl\n"
   ]
  },
  {
   "cell_type": "code",
   "execution_count": 72,
   "metadata": {},
   "outputs": [
    {
     "name": "stdout",
     "output_type": "stream",
     "text": [
      "   [D999004] - Entity Information, Entity (Unit: KRW)                                     20230101-20230630\n",
      "                                             label_ko                            label_en                ()\n",
      "0                                 공시대상정보 [text block]     Entity information [text block]               NaN\n",
      "1                                            공시대상,법인명              Entity iegistrant name    Kakao Mobility\n",
      "2                                           공시대상,고유번호            Entity central index key         1250666.0\n",
      "3                                           공시대상,법인번호    Entity legal registration number    131111-0481819\n",
      "4                                            공시대상,결산월                 Entity fiscal month          December\n",
      "5                            공시대상,상장정보 (유가증권/코스닥/코넥스)                   Domestic exchange  Unlisted Company\n",
      "6                                         공시대상,해외상장정보              International exchange               N/A\n",
      "7                                         공시대상,산업분류코드              Standard industry code            6399.0\n",
      "8                                        공시대상,통화ISO코드  Entity reporting currency ISO code               KRW\n",
      "9                                           공시대상,단위정보                           Unit Info               1.0\n",
      "10                                           공시대상,주주수             Number of stock holders               0.0\n",
      "11                                          공시대상,종업원수                 Number of employees               0.0\n"
     ]
    }
   ],
   "source": [
    "# xbrl.exist_consolidated()\n",
    "\n",
    "def getCompanyInformation(xbrl):\n",
    "  return xbrl.get_entity_information().to_string()\n",
    "\n",
    "#print(getCompanyInformation(xbrl))"
   ]
  },
  {
   "cell_type": "code",
   "execution_count": 53,
   "metadata": {},
   "outputs": [],
   "source": [
    "def getReportAuditInformation(xbrl):\n",
    "  return xbrl.get_audit_information().to_string()\n",
    "  "
   ]
  },
  {
   "cell_type": "code",
   "execution_count": 71,
   "metadata": {},
   "outputs": [
    {
     "name": "stdout",
     "output_type": "stream",
     "text": [
      "  [D999001] - Document Information, Document (Unit: KRW)                                                  20230101-20230630\n",
      "                                                label_ko                                         label_en    (당기(당분기,당반기),)\n",
      "0                                    공시문서정보 [text block]                Document information [text block]               NaN\n",
      "1                                                공시문서 제목                                   Document title  Half Year Report\n",
      "2                                                  수정 여부                                        Amendment             false\n",
      "3                                      공시문서 작성일 (문서 제출일)                           Document creation date        2023-08-24\n",
      "4                                          비교표시재무제표 작성여부  Restatement of comparative financial statements              true\n"
     ]
    }
   ],
   "source": [
    "def getReportInformation(xbrl):\n",
    "  return xbrl.get_document_information().to_string()\n",
    "\n",
    "#print(getReportInformation(xbrl))"
   ]
  },
  {
   "cell_type": "code",
   "execution_count": 57,
   "metadata": {},
   "outputs": [],
   "source": [
    "def getCashFlowStatement(xbrl):\n",
    "  cashflows = \"\"\n",
    "  for cashflow in xbrl.get_cash_flows():\n",
    "    cashflows += cashflow.to_DataFrame(show_class=False).drop(columns=['concept_id','label_en'], level=1, axis=1).astype(str) + \"\\n\"\n",
    "  return cashflows"
   ]
  },
  {
   "cell_type": "code",
   "execution_count": 114,
   "metadata": {},
   "outputs": [
    {
     "data": {
      "text/html": [
       "<div>\n",
       "<style scoped>\n",
       "    .dataframe tbody tr th:only-of-type {\n",
       "        vertical-align: middle;\n",
       "    }\n",
       "\n",
       "    .dataframe tbody tr th {\n",
       "        vertical-align: top;\n",
       "    }\n",
       "\n",
       "    .dataframe thead tr th {\n",
       "        text-align: left;\n",
       "    }\n",
       "</style>\n",
       "<table border=\"1\" class=\"dataframe\">\n",
       "  <thead>\n",
       "    <tr>\n",
       "      <th></th>\n",
       "      <th>[D520000] Statement of cash flows, indirect method - Consolidated financial statements (Unit: KRW)</th>\n",
       "      <th colspan=\"2\" halign=\"left\">20230101-20230630</th>\n",
       "      <th colspan=\"2\" halign=\"left\">20220101-20220630</th>\n",
       "    </tr>\n",
       "    <tr>\n",
       "      <th></th>\n",
       "      <th>label_ko</th>\n",
       "      <th>(별도재무제표,)</th>\n",
       "      <th>(연결재무제표,)</th>\n",
       "      <th>(연결재무제표,)</th>\n",
       "      <th>(별도재무제표,)</th>\n",
       "    </tr>\n",
       "  </thead>\n",
       "  <tbody>\n",
       "    <tr>\n",
       "      <th>0</th>\n",
       "      <td>영업활동현금흐름</td>\n",
       "      <td>34439434199.0</td>\n",
       "      <td>51626998627.0</td>\n",
       "      <td>41808571350.0</td>\n",
       "      <td>39622599074.0</td>\n",
       "    </tr>\n",
       "    <tr>\n",
       "      <th>1</th>\n",
       "      <td>영업으로부터 창출된 현금흐름</td>\n",
       "      <td>nan</td>\n",
       "      <td>56387483552.0</td>\n",
       "      <td>39927278475.0</td>\n",
       "      <td>nan</td>\n",
       "    </tr>\n",
       "    <tr>\n",
       "      <th>2</th>\n",
       "      <td>이자의 수취</td>\n",
       "      <td>5965389681.0</td>\n",
       "      <td>6983001341.0</td>\n",
       "      <td>5377875136.0</td>\n",
       "      <td>4845261927.0</td>\n",
       "    </tr>\n",
       "    <tr>\n",
       "      <th>3</th>\n",
       "      <td>이자의 지급</td>\n",
       "      <td>3526040787.0</td>\n",
       "      <td>5966881174.0</td>\n",
       "      <td>3343147225.0</td>\n",
       "      <td>3234816286.0</td>\n",
       "    </tr>\n",
       "    <tr>\n",
       "      <th>4</th>\n",
       "      <td>법인세의 납부</td>\n",
       "      <td>4171262173.0</td>\n",
       "      <td>5776605092.0</td>\n",
       "      <td>153435036.0</td>\n",
       "      <td>153084250.0</td>\n",
       "    </tr>\n",
       "    <tr>\n",
       "      <th>5</th>\n",
       "      <td>투자활동현금흐름</td>\n",
       "      <td>9771285803.0</td>\n",
       "      <td>8836633344.0</td>\n",
       "      <td>-100547905731.0</td>\n",
       "      <td>-105038836869.0</td>\n",
       "    </tr>\n",
       "    <tr>\n",
       "      <th>6</th>\n",
       "      <td>단기금융상품의 증가</td>\n",
       "      <td>nan</td>\n",
       "      <td>-8488510504.0</td>\n",
       "      <td>-1719851438.0</td>\n",
       "      <td>nan</td>\n",
       "    </tr>\n",
       "    <tr>\n",
       "      <th>7</th>\n",
       "      <td>장기금융상품의 증가</td>\n",
       "      <td>nan</td>\n",
       "      <td>-409055.0</td>\n",
       "      <td>-12972513.0</td>\n",
       "      <td>nan</td>\n",
       "    </tr>\n",
       "    <tr>\n",
       "      <th>8</th>\n",
       "      <td>당기손익-공정가치 측정 금융자산의 취득</td>\n",
       "      <td>nan</td>\n",
       "      <td>-108000000000.0</td>\n",
       "      <td>0.0</td>\n",
       "      <td>nan</td>\n",
       "    </tr>\n",
       "    <tr>\n",
       "      <th>9</th>\n",
       "      <td>당기손익-공정가치 측정 금융자산의 처분</td>\n",
       "      <td>nan</td>\n",
       "      <td>141422547730.0</td>\n",
       "      <td>0.0</td>\n",
       "      <td>nan</td>\n",
       "    </tr>\n",
       "    <tr>\n",
       "      <th>10</th>\n",
       "      <td>기타포괄손익-공정가치 측정 금융자산의 취득</td>\n",
       "      <td>nan</td>\n",
       "      <td>-51890310.0</td>\n",
       "      <td>0.0</td>\n",
       "      <td>nan</td>\n",
       "    </tr>\n",
       "    <tr>\n",
       "      <th>11</th>\n",
       "      <td>기타포괄손익-공정가치 측정 금융자산의 처분</td>\n",
       "      <td>nan</td>\n",
       "      <td>0.0</td>\n",
       "      <td>1764706.0</td>\n",
       "      <td>nan</td>\n",
       "    </tr>\n",
       "    <tr>\n",
       "      <th>12</th>\n",
       "      <td>단기대여금의 대여</td>\n",
       "      <td>nan</td>\n",
       "      <td>-130000000.0</td>\n",
       "      <td>-300000000.0</td>\n",
       "      <td>nan</td>\n",
       "    </tr>\n",
       "    <tr>\n",
       "      <th>13</th>\n",
       "      <td>단기대여금의 회수</td>\n",
       "      <td>nan</td>\n",
       "      <td>88520700.0</td>\n",
       "      <td>6973621754.0</td>\n",
       "      <td>nan</td>\n",
       "    </tr>\n",
       "    <tr>\n",
       "      <th>14</th>\n",
       "      <td>장기대여금의 대여</td>\n",
       "      <td>nan</td>\n",
       "      <td>-4040800000.0</td>\n",
       "      <td>0.0</td>\n",
       "      <td>nan</td>\n",
       "    </tr>\n",
       "    <tr>\n",
       "      <th>15</th>\n",
       "      <td>장기대여금의 회수</td>\n",
       "      <td>nan</td>\n",
       "      <td>0.0</td>\n",
       "      <td>417750000.0</td>\n",
       "      <td>nan</td>\n",
       "    </tr>\n",
       "    <tr>\n",
       "      <th>16</th>\n",
       "      <td>관계기업 및 공동기업투자의 취득</td>\n",
       "      <td>778.0</td>\n",
       "      <td>778.0</td>\n",
       "      <td>999998024.0</td>\n",
       "      <td>999998024.0</td>\n",
       "    </tr>\n",
       "    <tr>\n",
       "      <th>17</th>\n",
       "      <td>관계기업 및 공동기업투자의 처분</td>\n",
       "      <td>nan</td>\n",
       "      <td>540643500.0</td>\n",
       "      <td>0.0</td>\n",
       "      <td>nan</td>\n",
       "    </tr>\n",
       "    <tr>\n",
       "      <th>18</th>\n",
       "      <td>임차보증금의 증가</td>\n",
       "      <td>102790428.0</td>\n",
       "      <td>671760428.0</td>\n",
       "      <td>4394532777.0</td>\n",
       "      <td>4246138777.0</td>\n",
       "    </tr>\n",
       "    <tr>\n",
       "      <th>19</th>\n",
       "      <td>임차보증금의 감소</td>\n",
       "      <td>216461953.0</td>\n",
       "      <td>501661953.0</td>\n",
       "      <td>597761000.0</td>\n",
       "      <td>222504000.0</td>\n",
       "    </tr>\n",
       "    <tr>\n",
       "      <th>20</th>\n",
       "      <td>유형자산의 취득</td>\n",
       "      <td>6784453221.0</td>\n",
       "      <td>12850079208.0</td>\n",
       "      <td>7367450390.0</td>\n",
       "      <td>6900110100.0</td>\n",
       "    </tr>\n",
       "    <tr>\n",
       "      <th>21</th>\n",
       "      <td>유형자산의 처분</td>\n",
       "      <td>43403445.0</td>\n",
       "      <td>1215002644.0</td>\n",
       "      <td>194393438.0</td>\n",
       "      <td>106289656.0</td>\n",
       "    </tr>\n",
       "    <tr>\n",
       "      <th>22</th>\n",
       "      <td>무형자산의 취득</td>\n",
       "      <td>263865650.0</td>\n",
       "      <td>307293900.0</td>\n",
       "      <td>1988580450.0</td>\n",
       "      <td>1921731450.0</td>\n",
       "    </tr>\n",
       "    <tr>\n",
       "      <th>23</th>\n",
       "      <td>종속기업 취득 및 연결범위변동으로 인한 순현금흐름</td>\n",
       "      <td>nan</td>\n",
       "      <td>0.0</td>\n",
       "      <td>91787311037.0</td>\n",
       "      <td>nan</td>\n",
       "    </tr>\n",
       "    <tr>\n",
       "      <th>24</th>\n",
       "      <td>기타투자활동으로 인한 현금흐름</td>\n",
       "      <td>nan</td>\n",
       "      <td>-390999000.0</td>\n",
       "      <td>-162500000.0</td>\n",
       "      <td>nan</td>\n",
       "    </tr>\n",
       "    <tr>\n",
       "      <th>25</th>\n",
       "      <td>재무활동현금흐름</td>\n",
       "      <td>-12833799641.0</td>\n",
       "      <td>-29432247059.0</td>\n",
       "      <td>-2806892917.0</td>\n",
       "      <td>-4504031858.0</td>\n",
       "    </tr>\n",
       "    <tr>\n",
       "      <th>26</th>\n",
       "      <td>단기차입금의 차입</td>\n",
       "      <td>nan</td>\n",
       "      <td>850000000.0</td>\n",
       "      <td>0.0</td>\n",
       "      <td>nan</td>\n",
       "    </tr>\n",
       "    <tr>\n",
       "      <th>27</th>\n",
       "      <td>단기차입금의 상환</td>\n",
       "      <td>nan</td>\n",
       "      <td>3000000000.0</td>\n",
       "      <td>650000000.0</td>\n",
       "      <td>nan</td>\n",
       "    </tr>\n",
       "    <tr>\n",
       "      <th>28</th>\n",
       "      <td>리스부채의 상환</td>\n",
       "      <td>nan</td>\n",
       "      <td>27373214139.0</td>\n",
       "      <td>11294104998.0</td>\n",
       "      <td>nan</td>\n",
       "    </tr>\n",
       "    <tr>\n",
       "      <th>29</th>\n",
       "      <td>주식선택권의 행사</td>\n",
       "      <td>80967080.0</td>\n",
       "      <td>80967080.0</td>\n",
       "      <td>6266300515.0</td>\n",
       "      <td>6266300515.0</td>\n",
       "    </tr>\n",
       "    <tr>\n",
       "      <th>30</th>\n",
       "      <td>종속기업의 유상증자</td>\n",
       "      <td>nan</td>\n",
       "      <td>0.0</td>\n",
       "      <td>2870911566.0</td>\n",
       "      <td>nan</td>\n",
       "    </tr>\n",
       "    <tr>\n",
       "      <th>31</th>\n",
       "      <td>임대보증금의 증가</td>\n",
       "      <td>nan</td>\n",
       "      <td>10000000.0</td>\n",
       "      <td>0.0</td>\n",
       "      <td>nan</td>\n",
       "    </tr>\n",
       "    <tr>\n",
       "      <th>32</th>\n",
       "      <td>현금및현금성자산의순증가(감소)</td>\n",
       "      <td>31376920361.0</td>\n",
       "      <td>31031384912.0</td>\n",
       "      <td>-61546227298.0</td>\n",
       "      <td>-69920269653.0</td>\n",
       "    </tr>\n",
       "    <tr>\n",
       "      <th>33</th>\n",
       "      <td>기초현금및현금성자산</td>\n",
       "      <td>313603031353.0</td>\n",
       "      <td>390591732977.0</td>\n",
       "      <td>622991898166.0</td>\n",
       "      <td>548166210065.0</td>\n",
       "    </tr>\n",
       "    <tr>\n",
       "      <th>34</th>\n",
       "      <td>기말현금및현금성자산</td>\n",
       "      <td>344979951714.0</td>\n",
       "      <td>421623117889.0</td>\n",
       "      <td>561445670868.0</td>\n",
       "      <td>478245940412.0</td>\n",
       "    </tr>\n",
       "  </tbody>\n",
       "</table>\n",
       "</div>"
      ],
      "text/plain": [
       "   [D520000] Statement of cash flows, indirect method - Consolidated financial statements (Unit: KRW)  \\\n",
       "                                                                                             label_ko   \n",
       "0                                            영업활동현금흐름                                                   \n",
       "1                                     영업으로부터 창출된 현금흐름                                                   \n",
       "2                                              이자의 수취                                                   \n",
       "3                                              이자의 지급                                                   \n",
       "4                                             법인세의 납부                                                   \n",
       "5                                            투자활동현금흐름                                                   \n",
       "6                                          단기금융상품의 증가                                                   \n",
       "7                                          장기금융상품의 증가                                                   \n",
       "8                               당기손익-공정가치 측정 금융자산의 취득                                                   \n",
       "9                               당기손익-공정가치 측정 금융자산의 처분                                                   \n",
       "10                            기타포괄손익-공정가치 측정 금융자산의 취득                                                   \n",
       "11                            기타포괄손익-공정가치 측정 금융자산의 처분                                                   \n",
       "12                                          단기대여금의 대여                                                   \n",
       "13                                          단기대여금의 회수                                                   \n",
       "14                                          장기대여금의 대여                                                   \n",
       "15                                          장기대여금의 회수                                                   \n",
       "16                                  관계기업 및 공동기업투자의 취득                                                   \n",
       "17                                  관계기업 및 공동기업투자의 처분                                                   \n",
       "18                                          임차보증금의 증가                                                   \n",
       "19                                          임차보증금의 감소                                                   \n",
       "20                                           유형자산의 취득                                                   \n",
       "21                                           유형자산의 처분                                                   \n",
       "22                                           무형자산의 취득                                                   \n",
       "23                        종속기업 취득 및 연결범위변동으로 인한 순현금흐름                                                   \n",
       "24                                   기타투자활동으로 인한 현금흐름                                                   \n",
       "25                                           재무활동현금흐름                                                   \n",
       "26                                          단기차입금의 차입                                                   \n",
       "27                                          단기차입금의 상환                                                   \n",
       "28                                           리스부채의 상환                                                   \n",
       "29                                          주식선택권의 행사                                                   \n",
       "30                                         종속기업의 유상증자                                                   \n",
       "31                                          임대보증금의 증가                                                   \n",
       "32                                   현금및현금성자산의순증가(감소)                                                   \n",
       "33                                         기초현금및현금성자산                                                   \n",
       "34                                         기말현금및현금성자산                                                   \n",
       "\n",
       "   20230101-20230630                  20220101-20220630                   \n",
       "           (별도재무제표,)        (연결재무제표,)         (연결재무제표,)        (별도재무제표,)  \n",
       "0      34439434199.0    51626998627.0     41808571350.0    39622599074.0  \n",
       "1                nan    56387483552.0     39927278475.0              nan  \n",
       "2       5965389681.0     6983001341.0      5377875136.0     4845261927.0  \n",
       "3       3526040787.0     5966881174.0      3343147225.0     3234816286.0  \n",
       "4       4171262173.0     5776605092.0       153435036.0      153084250.0  \n",
       "5       9771285803.0     8836633344.0   -100547905731.0  -105038836869.0  \n",
       "6                nan    -8488510504.0     -1719851438.0              nan  \n",
       "7                nan        -409055.0       -12972513.0              nan  \n",
       "8                nan  -108000000000.0               0.0              nan  \n",
       "9                nan   141422547730.0               0.0              nan  \n",
       "10               nan      -51890310.0               0.0              nan  \n",
       "11               nan              0.0         1764706.0              nan  \n",
       "12               nan     -130000000.0      -300000000.0              nan  \n",
       "13               nan       88520700.0      6973621754.0              nan  \n",
       "14               nan    -4040800000.0               0.0              nan  \n",
       "15               nan              0.0       417750000.0              nan  \n",
       "16             778.0            778.0       999998024.0      999998024.0  \n",
       "17               nan      540643500.0               0.0              nan  \n",
       "18       102790428.0      671760428.0      4394532777.0     4246138777.0  \n",
       "19       216461953.0      501661953.0       597761000.0      222504000.0  \n",
       "20      6784453221.0    12850079208.0      7367450390.0     6900110100.0  \n",
       "21        43403445.0     1215002644.0       194393438.0      106289656.0  \n",
       "22       263865650.0      307293900.0      1988580450.0     1921731450.0  \n",
       "23               nan              0.0     91787311037.0              nan  \n",
       "24               nan     -390999000.0      -162500000.0              nan  \n",
       "25    -12833799641.0   -29432247059.0     -2806892917.0    -4504031858.0  \n",
       "26               nan      850000000.0               0.0              nan  \n",
       "27               nan     3000000000.0       650000000.0              nan  \n",
       "28               nan    27373214139.0     11294104998.0              nan  \n",
       "29        80967080.0       80967080.0      6266300515.0     6266300515.0  \n",
       "30               nan              0.0      2870911566.0              nan  \n",
       "31               nan       10000000.0               0.0              nan  \n",
       "32     31376920361.0    31031384912.0    -61546227298.0   -69920269653.0  \n",
       "33    313603031353.0   390591732977.0    622991898166.0   548166210065.0  \n",
       "34    344979951714.0   421623117889.0    561445670868.0   478245940412.0  "
      ]
     },
     "execution_count": 114,
     "metadata": {},
     "output_type": "execute_result"
    }
   ],
   "source": [
    "xbrl.get_cash_flows()[0].to_DataFrame(show_class=False).drop(columns=['concept_id','label_en'], level=1, axis=1).astype(str)"
   ]
  },
  {
   "cell_type": "code",
   "execution_count": 63,
   "metadata": {},
   "outputs": [],
   "source": [
    "def getFinancialStatement(xbrl):\n",
    "  statements = \"\"\n",
    "  for statement in xbrl.get_financial_statement():\n",
    "    statements += statement.to_DataFrame(show_class=False).to_string() + \"\\n\"\n",
    "  return statements\n"
   ]
  },
  {
   "cell_type": "code",
   "execution_count": 64,
   "metadata": {},
   "outputs": [
    {
     "name": "stdout",
     "output_type": "stream",
     "text": [
      "   [D210000] Statement of financial position, current/non-current - Consolidated financial statements (Unit: KRW)                                                                                                                         20230630                                20221231                              20220630                  \n",
      "                                                                                                       concept_id             label_ko                                                                                label_en           (연결재무제표,)           (별도재무제표,)           (연결재무제표,)           (별도재무제표,)         (연결재무제표,)         (별도재무제표,)\n",
      "0                                                                                         ifrs-full_CurrentAssets                 유동자산                                                                          Current assets   632,386,500,449.0   543,638,862,730.0   621,334,374,396.0   524,640,880,342.0               NaN               NaN\n",
      "1                                                                                ifrs-full_CashAndCashEquivalents             현금및현금성자산                                                               Cash and cash equivalents   421,623,117,889.0   344,979,951,714.0   390,591,732,977.0   313,603,031,353.0               NaN               NaN\n",
      "2                                                            dart_ShortTermDepositsNotClassifiedAsCashEquivalents               단기금융상품                                  Short-term deposits not classified as cash equivalents     8,494,390,137.0                 NaN                 0.0                 NaN               NaN               NaN\n",
      "3                                                                                   dart_ShortTermTradeReceivable                 매출채권                                                             Short-term trade Receivable    62,955,203,050.0    54,168,720,284.0    53,224,467,136.0    45,792,106,626.0               NaN               NaN\n",
      "4                                                              entity01250666_udf_BS_20233819121629_CurrentAssets    당기손익-공정가치 측정 금융자산                          Financial assets measured at fair value through profit or loss   105,052,166,202.0                 NaN   140,613,665,882.0                 NaN               NaN               NaN\n",
      "5                                                                           ifrs-full_OtherCurrentFinancialAssets             기타유동금융자산                                                          Other current financial assets    20,561,398,890.0    30,168,296,171.0    21,144,872,459.0    23,073,328,199.0               NaN               NaN\n",
      "6                                                                                           ifrs-full_Inventories                 재고자산                                                                             Inventories       927,650,657.0        36,918,312.0     1,253,146,717.0        60,713,956.0               NaN               NaN\n",
      "7                                                                                         dart_OtherCurrentAssets               기타유동자산                                                                    Other current assets    12,280,144,732.0     8,060,502,906.0    12,693,549,067.0     9,223,976,100.0               NaN               NaN\n",
      "8                                                                                      ifrs-full_CurrentTaxAssets              당기법인세자산                                                                      Current tax assets       492,428,892.0       441,944,745.0     1,812,940,158.0     1,593,201,120.0               NaN               NaN\n",
      "9                                                                                      ifrs-full_NoncurrentAssets                비유동자산                                                                      Non-current assets   910,006,677,032.0   849,654,126,611.0   925,206,040,579.0   869,265,882,268.0               NaN               NaN\n",
      "10                                                            dart_LongTermDepositsNotClassifiedAsCashEquivalents    당기손익-공정가치 측정 금융자산                          Financial assets measured at fair value through profit or loss    15,767,212,514.0    15,767,212,514.0    12,767,212,514.0    12,767,212,514.0               NaN               NaN\n",
      "11                          ifrs-full_NoncurrentFinancialAssetsMeasuredAtFairValueThroughOtherComprehensiveIncome  기타포괄손익-공정가치 측정 금융자산  Non-current financial assets measured at fair value through other comprehensive income    15,090,530,548.0    15,111,892,885.0    15,052,208,863.0    15,073,571,200.0               NaN               NaN\n",
      "12                                                                       ifrs-full_OtherNoncurrentFinancialAssets            기타비유동금융자산                                                      Other non-current financial assets    33,480,258,388.0    31,793,978,496.0    28,520,703,255.0    23,403,303,405.0               NaN               NaN\n",
      "13                                                                                     dart_OtherNonCurrentAssets              기타비유동자산                                                                Other non-current assets       836,952,077.0       217,991,531.0     1,187,161,830.0       585,511,721.0               NaN               NaN\n",
      "14                                                                              ifrs-full_InvestmentsInAssociates               관계기업투자                                                               Investments in associates     9,003,256,950.0                 NaN    14,499,111,051.0                 NaN               NaN               NaN\n",
      "15                                                                            ifrs-full_PropertyPlantAndEquipment                 유형자산                                                           Property, plant and equipment    59,742,658,789.0    36,600,535,630.0    63,295,984,391.0    40,202,289,739.0               NaN               NaN\n",
      "16                                                                                dart_OtherIntangibleAssetsGross                 무형자산                                                                Intangible assets, gross   268,807,252,963.0   106,363,056,848.0   269,323,587,111.0   103,531,824,473.0               NaN               NaN\n",
      "17                                                                                     ifrs-full_RightofuseAssets                사용권자산                                                                     Right-of-use assets   176,757,171,000.0    93,098,847,402.0   169,169,539,338.0   107,239,778,786.0               NaN               NaN\n",
      "18                                                          entity01250666_udf_BS_20233819639241_NoncurrentAssets              순확정급여자산                                                              Net Defined Benefit Assets        39,199,890.0                 NaN     1,969,114,544.0                 NaN               NaN               NaN\n",
      "19                                                                                    ifrs-full_DeferredTaxAssets              이연법인세자산                                                                     Deferred tax assets   330,482,183,913.0   320,510,589,179.0   349,421,417,682.0   331,915,105,566.0               NaN               NaN\n",
      "20                                                                                               ifrs-full_Assets                 자산총계                                                                            Total assets 1,542,393,177,481.0 1,393,292,989,341.0 1,546,540,414,975.0 1,393,906,762,610.0               NaN               NaN\n",
      "21                                                                                   ifrs-full_CurrentLiabilities                 유동부채                                                                     Current liabilities   287,691,751,029.0   220,936,549,467.0   276,810,859,736.0   215,598,825,144.0               NaN               NaN\n",
      "22                                                                                    dart_ShortTermOtherPayables                 미지급금                                                                        Accounts payable   128,315,159,240.0   114,463,041,937.0   123,987,891,021.0   109,106,427,613.0               NaN               NaN\n",
      "23                                                                                  ifrs-full_ShorttermBorrowings                단기차입금                                                                   Short-term borrowings    57,850,000,000.0    50,000,000,000.0    60,000,000,000.0    50,000,000,000.0               NaN               NaN\n",
      "24                                                                     ifrs-full_OtherCurrentFinancialLiabilities             기타유동금융부채                                                     Other current financial liabilities       295,186,316.0        16,630,421.0     1,039,894,454.0                 0.0               NaN               NaN\n",
      "25                                                                              ifrs-full_CurrentLeaseLiabilities               유동리스부채                                                               Current lease liabilities    63,065,856,129.0    31,016,210,278.0    54,810,023,305.0    31,092,466,775.0               NaN               NaN\n",
      "26                                                                                   dart_OtherCurrentLiabilities               기타유동부채                                                               Other current liabilities    35,240,235,101.0    23,236,361,554.0    33,979,484,182.0    23,428,734,663.0               NaN               NaN\n",
      "27                                                                                    ifrs-full_CurrentProvisions             기타유동충당부채                                                                Other current provisions     2,925,314,243.0     2,204,305,277.0     2,933,479,446.0     1,971,196,093.0               NaN               NaN\n",
      "28                                                                                ifrs-full_CurrentTaxLiabilities              당기법인세부채                                                                 Current tax liabilities                 0.0                 NaN        60,087,328.0                 NaN               NaN               NaN\n",
      "29                                                                                ifrs-full_NoncurrentLiabilities                비유동부채                                                                 Non-current liabilities   129,071,824,267.0    76,982,019,515.0   126,701,549,693.0    89,262,318,411.0               NaN               NaN\n",
      "30                                                                  ifrs-full_OtherNoncurrentFinancialLiabilities            기타비유동금융부채                                                 Other non-current financial liabilities       163,858,194.0       687,968,643.0       155,563,802.0       687,968,643.0               NaN               NaN\n",
      "31                                                                           ifrs-full_NoncurrentLeaseLiabilities              비유동리스부채                                                           Non-current lease liabilities   121,163,008,768.0    71,958,180,490.0   119,694,657,474.0    84,789,355,393.0               NaN               NaN\n",
      "32                                                                                dart_OtherNonCurrentLiabilities              기타비유동부채                                                           Other non-current liabilities         1,716,123.0                 NaN         1,716,123.0                 NaN               NaN               NaN\n",
      "33                                                    entity01250666_udf_BS_202338192348508_NoncurrentLiabilities              순확정급여부채                                                           Net defined benefit liability     2,824,417,004.0                 NaN     2,093,829,243.0                 NaN               NaN               NaN\n",
      "34                                                    entity01250666_udf_BS_202338192413566_NoncurrentLiabilities          기타장기종업원급여부채                                            Other long-term employee benefit liabilities       628,290,260.0                 NaN       634,240,260.0                 NaN               NaN               NaN\n",
      "35                                                    entity01250666_udf_BS_202338192422312_NoncurrentLiabilities            기타비유동충당부채                                                 Other Non-Current Provision Liabilities     4,290,533,918.0                 NaN     4,121,542,791.0                 NaN               NaN               NaN\n",
      "36                                                                                          ifrs-full_Liabilities                 부채총계                                                                       Total liabilities   416,763,575,296.0   297,918,568,982.0   403,512,409,429.0   304,861,143,555.0               NaN               NaN\n",
      "37                                                                   ifrs-full_EquityAttributableToOwnersOfParent           지배기업 소유주지분                                                 Equity attributable to owners of parent 1,126,271,493,577.0                 NaN 1,143,180,631,186.0                 NaN               NaN               NaN\n",
      "38                                                                                        ifrs-full_IssuedCapital                  자본금                                                                          Issued capital    25,476,515,900.0    25,476,515,900.0    25,475,324,300.0    25,475,324,300.0               NaN               NaN\n",
      "39                                                                                            dart_CapitalSurplus                자본잉여금                                                                         Capital surplus   874,221,761,151.0   871,319,423,597.0   874,128,627,165.0   871,368,437,271.0               NaN               NaN\n",
      "40                                                                                   dart_OtherCapitalAdjustments                 자본조정                                                                     Capital adjustments   341,603,528,093.0   331,593,773,649.0   336,774,982,425.0   326,765,227,981.0               NaN               NaN\n",
      "41                                                             dart_OtherComprehensiveIncomeLossAccumulatedAmount            기타포괄손익누계액                                      Other Comprehensive income/loss accumulated amount    -1,021,028,614.0    -1,235,976,491.0    -1,198,029,489.0    -1,225,472,303.0               NaN               NaN\n",
      "42                                                                                     ifrs-full_RetainedEarnings                  결손금                                                                                 Deficit  -114,009,282,953.0  -131,779,316,296.0   -92,000,273,215.0  -133,337,898,194.0               NaN               NaN\n",
      "43                                                                              ifrs-full_NoncontrollingInterests                비지배지분                                                               Non-controlling interests      -641,891,392.0                 NaN      -152,625,640.0                 NaN               NaN               NaN\n",
      "44                                                                                               ifrs-full_Equity                 자본총계                                                                            Total equity 1,125,629,602,185.0 1,095,374,420,359.0 1,143,028,005,546.0 1,089,045,619,055.0 848,990,987,807.0 845,365,390,498.0\n",
      "45                                                                                 ifrs-full_EquityAndLiabilities              자본과부채총계                                                            Total equity and liabilities 1,542,393,177,481.0 1,393,292,989,341.0 1,546,540,414,975.0 1,393,906,762,610.0               NaN               NaN\n",
      "\n"
     ]
    }
   ],
   "source": [
    "print(getFinancialStatement(xbrl))"
   ]
  },
  {
   "cell_type": "code",
   "execution_count": null,
   "metadata": {},
   "outputs": [],
   "source": [
    "xbrl.get_income_statement().to_DataFrame(show_class=False).to_string()"
   ]
  },
  {
   "cell_type": "code",
   "execution_count": 65,
   "metadata": {},
   "outputs": [],
   "source": [
    "\n",
    "def makeIncomeStatementContents(xbrl):\n",
    "  income_statements = \"\"\n",
    "  for income_statement in xbrl.get_income_statement():\n",
    "    income_statements += income_statement.to_DataFrame(show_class=False).to_string() + \"\\n\"\n",
    "  return income_statements\n",
    "\n"
   ]
  },
  {
   "cell_type": "code",
   "execution_count": 66,
   "metadata": {},
   "outputs": [
    {
     "name": "stdout",
     "output_type": "stream",
     "text": [
      "   [D431410] Statement of comprehensive income, by function of expense - Consolidated financial statements (Unit: KRW)                                                                                                                           20230401-20230630                   20230101-20230630                   20220401-20220630                   20220101-20220630                  \n",
      "                                                                                                            concept_id                    label_ko                                                                                      label_en         (별도재무제표,)         (연결재무제표,)         (별도재무제표,)         (연결재무제표,)         (연결재무제표,)         (별도재무제표,)         (연결재무제표,)         (별도재무제표,)\n",
      "0                                         entity01250666_udf_IS_202339183143723_StatementOfComprehensiveIncomeAbstract                        영업수익                                                                             Operating revenue               NaN 246,647,462,326.0               NaN 466,887,532,669.0 198,037,156,625.0               NaN 358,126,353,721.0               NaN\n",
      "1                                                                       dart_TotalSellingGeneralAdministrativeExpenses                        영업비용                                                       Selling general administrative expenses 181,264,859,012.0 239,844,396,729.0 346,696,642,588.0 455,175,771,437.0 190,674,918,262.0 155,086,303,890.0 351,137,678,364.0 283,968,353,346.0\n",
      "2                                                                                             dart_OperatingIncomeLoss                        영업이익                                                                        Operating income(loss)  14,654,358,501.0   6,803,065,597.0  19,861,311,671.0  11,711,761,232.0   7,362,238,363.0   7,015,983,269.0   6,988,675,357.0   6,544,109,987.0\n",
      "3                                                                                                      dart_OtherGains                        기타수익                                                                                   Other gains     832,940,133.0   1,298,131,649.0   1,178,686,678.0   2,046,479,793.0     387,988,241.0     135,350,383.0     894,276,756.0     236,915,312.0\n",
      "4                                                                                                     dart_OtherLosses                        기타비용                                                                                  Other losses   4,899,014,663.0   5,436,377,027.0   7,349,714,933.0   8,364,361,578.0   1,282,088,195.0   1,066,458,149.0   3,729,714,115.0   3,097,823,287.0\n",
      "5                                                                                              ifrs-full_FinanceIncome                        금융수익                                                                                Finance income   4,025,387,879.0   4,614,672,258.0   8,687,116,487.0   9,875,353,178.0   3,097,440,255.0   2,767,818,160.0   5,492,335,909.0   4,901,662,118.0\n",
      "6                                                                                               ifrs-full_FinanceCosts                        금융비용                                                                                 Finance costs   1,839,476,438.0   3,183,527,297.0   4,088,718,633.0   6,634,741,791.0   2,082,520,702.0   2,021,619,949.0   3,551,188,952.0   3,431,481,632.0\n",
      "7                                          entity01250666_udf_IS_20233910053539_StatementOfComprehensiveIncomeAbstract                       지분법손익                                                                Equity method gains and losses               NaN  -2,466,198,747.0               NaN  -5,106,137,734.0  -1,002,298,004.0               NaN  -1,206,732,358.0               NaN\n",
      "8                                                                                        ifrs-full_ProfitLossBeforeTax                 법인세비용차감전순이익                                                                      Profit (loss) before tax  12,774,195,412.0   1,629,766,433.0  18,288,681,270.0   3,528,353,100.0   6,480,759,958.0   6,831,073,714.0   4,887,652,597.0   5,153,382,498.0\n",
      "9                                                                       ifrs-full_IncomeTaxExpenseContinuingOperations                       법인세비용                                                                            Income tax expense  15,887,949,672.0  25,210,305,046.0  16,730,099,372.0  26,035,075,174.0   1,633,580,035.0   1,651,787,205.0     762,434,530.0     798,848,870.0\n",
      "10                                                                                                ifrs-full_ProfitLoss                   반기순이익(손실)                                                                                 Profit (loss)  -3,113,754,260.0 -23,580,538,613.0   1,558,581,898.0 -22,506,722,074.0   4,847,179,923.0   5,179,286,509.0   4,125,218,067.0   4,354,533,628.0\n",
      "11                                                                     entity01250666_udf_IS_20233910753149_ProfitLoss                   지배기업소유주지분                                               Profit (loss), attributable to owners of parent               NaN -23,353,612,148.0               NaN -22,009,009,738.0   4,774,829,105.0               NaN   4,060,396,871.0               NaN\n",
      "12                                                                     entity01250666_udf_IS_20233910823538_ProfitLoss                       비지배지분                                      Profit (loss), attributable to non-controlling interests               NaN    -226,926,465.0               NaN    -497,712,336.0      72,350,818.0               NaN      64,821,196.0               NaN\n",
      "13                                                                                  ifrs-full_OtherComprehensiveIncome                    반기기타포괄손익                                                              Other comprehensive income(loss)    -352,337,148.0    -352,337,161.0     -10,504,188.0     177,000,875.0    -729,067,500.0    -729,067,500.0  -2,311,076,474.0  -2,328,903,787.0\n",
      "14                                                      entity01250666_udf_IS_202339202759720_OtherComprehensiveIncome          당기손익으로 재분류되지 않는 항목                                                Items not to be reclassified to profit or loss               NaN               NaN               NaN               NaN               NaN               NaN               NaN               NaN\n",
      "15                               entity01250666_udf_IS_202339202825990_udf_IS_202339202759720_OtherComprehensiveIncome  - 기타포괄손익-공정가치 측정 금융자산 평가손익  Other Comprehensive Income Fair Value Measurement Gain/Loss on Valuation of Financial Assets               NaN    -352,337,148.0               NaN     -10,504,188.0    -729,067,500.0               NaN  -1,176,761,250.0               NaN\n",
      "16                               entity01250666_udf_IS_202339202931759_udf_IS_202339202759720_OtherComprehensiveIncome             - 순확정급여부채 재측정요소                                         Net defined benefit liability remeasurement component               NaN               0.0               NaN               0.0               0.0               NaN  -1,134,315,224.0               NaN\n",
      "17                              entity01250666_udf_IS_2023522151412873_udf_IS_202339202759720_OtherComprehensiveIncome                   - 지분법자본변동                                                              Changes in equity method capital               NaN             -13.0               NaN     187,505,063.0               0.0               NaN               0.0               NaN\n",
      "18                                                                                       ifrs-full_ComprehensiveIncome                반기총포괄순이익(손실)                                                         Total Comprehensive Net Income (Loss)  -3,466,091,408.0 -23,932,875,774.0   1,548,077,710.0 -22,329,721,199.0   4,118,112,423.0   4,450,219,009.0   1,814,141,593.0   2,025,629,841.0\n",
      "19                                                           ifrs-full_ComprehensiveIncomeAttributableToOwnersOfParent                   지배기업소유주지분                                        Comprehensive income, attributable to owners of parent               NaN -23,705,949,309.0               NaN -21,832,008,863.0   4,035,402,530.0               NaN   1,731,431,700.0               NaN\n",
      "20                                                  ifrs-full_ComprehensiveIncomeAttributableToNoncontrollingInterests                       비지배지분                               Comprehensive income, attributable to non-controlling interests               NaN    -226,926,465.0               NaN    -497,712,336.0      82,709,893.0               NaN      82,709,893.0               NaN\n",
      "21                                                                                 ifrs-full_BasicEarningsLossPerShare                 기본주당순이익(손실)                                                               Basic earnings (loss) per share             -12.0             -92.0               6.0             -86.0              19.0              20.0              16.0              17.0\n",
      "22                                                                               ifrs-full_DilutedEarningsLossPerShare                 희석주당순이익(손실)                                                             Diluted earnings (loss) per share             -12.0             -92.0               6.0             -86.0              19.0              20.0              16.0              17.0\n",
      "\n"
     ]
    }
   ],
   "source": [
    "print(makeIncomeStatementContents(xbrl))"
   ]
  },
  {
   "cell_type": "code",
   "execution_count": 69,
   "metadata": {},
   "outputs": [],
   "source": [
    "xbrl2 = getXBRLInformation('카카오모빌리티')"
   ]
  },
  {
   "cell_type": "code",
   "execution_count": 81,
   "metadata": {},
   "outputs": [],
   "source": [
    "list.find_by_sector('493')"
   ]
  },
  {
   "cell_type": "code",
   "execution_count": 80,
   "metadata": {},
   "outputs": [
    {
     "data": {
      "text/html": [
       "<div>\n",
       "<style scoped>\n",
       "    .dataframe tbody tr th:only-of-type {\n",
       "        vertical-align: middle;\n",
       "    }\n",
       "\n",
       "    .dataframe tbody tr th {\n",
       "        vertical-align: top;\n",
       "    }\n",
       "\n",
       "    .dataframe thead th {\n",
       "        text-align: right;\n",
       "    }\n",
       "</style>\n",
       "<table border=\"1\" class=\"dataframe\">\n",
       "  <thead>\n",
       "    <tr style=\"text-align: right;\">\n",
       "      <th></th>\n",
       "      <th>Industy_code</th>\n",
       "      <th>Industy_name</th>\n",
       "    </tr>\n",
       "  </thead>\n",
       "  <tbody>\n",
       "    <tr>\n",
       "      <th>1284</th>\n",
       "      <td>493</td>\n",
       "      <td>도로 화물 운송업</td>\n",
       "    </tr>\n",
       "  </tbody>\n",
       "</table>\n",
       "</div>"
      ],
      "text/plain": [
       "     Industy_code Industy_name\n",
       "1284          493    도로 화물 운송업"
      ]
     },
     "execution_count": 80,
     "metadata": {},
     "output_type": "execute_result"
    }
   ],
   "source": [
    "# 산업분류 코드 확인\n",
    "import pandas as pd\n",
    "\n",
    "url = 'https://github.com/FinanceData/KSIC/raw/master/KSIC_10.csv.gz'\n",
    "\n",
    "df_ksic = pd.read_csv(url, dtype='str')\n",
    "df_ksic[df_ksic['Industy_code'] == '493']"
   ]
  },
  {
   "cell_type": "code",
   "execution_count": 86,
   "metadata": {},
   "outputs": [
    {
     "name": "stdout",
     "output_type": "stream",
     "text": [
      "도로 화물 운송업\n"
     ]
    }
   ],
   "source": [
    "def getIndustryName(industry_code):\n",
    "  return df_ksic[df_ksic['Industy_code'] == industry_code]['Industy_name'].values[0]\n",
    "\n",
    "print(getIndustryName('493'))"
   ]
  }
 ],
 "metadata": {
  "kernelspec": {
   "display_name": "sales-autobot",
   "language": "python",
   "name": "python3"
  },
  "language_info": {
   "codemirror_mode": {
    "name": "ipython",
    "version": 3
   },
   "file_extension": ".py",
   "mimetype": "text/x-python",
   "name": "python",
   "nbconvert_exporter": "python",
   "pygments_lexer": "ipython3",
   "version": "3.9.5"
  }
 },
 "nbformat": 4,
 "nbformat_minor": 2
}
