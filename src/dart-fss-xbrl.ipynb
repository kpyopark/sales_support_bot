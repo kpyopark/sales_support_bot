{
 "cells": [
  {
   "cell_type": "code",
   "execution_count": 1,
   "metadata": {},
   "outputs": [
    {
     "data": {
      "text/plain": [
       "'d0d52f788a9f1308869b2a0c1ac2377f342d9c06'"
      ]
     },
     "execution_count": 1,
     "metadata": {},
     "output_type": "execute_result"
    }
   ],
   "source": [
    "import dart_fss as dart\n",
    "import os\n",
    "\n",
    "# Open DART API KEY 설정\n",
    "api_key=os.getenv('DART_API_KEY')\n",
    "dart.set_api_key(api_key=api_key)"
   ]
  },
  {
   "cell_type": "code",
   "execution_count": 2,
   "metadata": {},
   "outputs": [
    {
     "name": "stdout",
     "output_type": "stream",
     "text": [
      "AAA\n",
      "BBB\n",
      "BBB\n",
      "BBB\n",
      "CCC\n",
      "DDD\n",
      "Number of companies: 103386\n"
     ]
    }
   ],
   "source": [
    "print(dart.get_corp_list())"
   ]
  },
  {
   "cell_type": "code",
   "execution_count": 3,
   "metadata": {},
   "outputs": [],
   "source": [
    "list = dart.get_corp_list()"
   ]
  },
  {
   "cell_type": "code",
   "execution_count": 4,
   "metadata": {},
   "outputs": [],
   "source": [
    "target_list = list.find_by_corp_name('카카오모빌리티')"
   ]
  },
  {
   "cell_type": "code",
   "execution_count": 5,
   "metadata": {},
   "outputs": [
    {
     "name": "stdout",
     "output_type": "stream",
     "text": [
      "01250666\n"
     ]
    }
   ],
   "source": [
    "print(target_list[0].corp_code)"
   ]
  },
  {
   "cell_type": "code",
   "execution_count": 12,
   "metadata": {},
   "outputs": [],
   "source": [
    "target_corp = list.find_by_corp_name(target_list[0].corp_name)[0]\n"
   ]
  },
  {
   "cell_type": "code",
   "execution_count": 74,
   "metadata": {},
   "outputs": [
    {
     "name": "stdout",
     "output_type": "stream",
     "text": [
      "[01250666]카카오모빌리티\n"
     ]
    }
   ],
   "source": [
    "print(target_corp)"
   ]
  },
  {
   "cell_type": "code",
   "execution_count": 14,
   "metadata": {},
   "outputs": [],
   "source": [
    "reports = target_corp.search_filings(bgn_de='20190301')"
   ]
  },
  {
   "cell_type": "code",
   "execution_count": 22,
   "metadata": {},
   "outputs": [],
   "source": [
    "latest_reports = reports[1]"
   ]
  },
  {
   "cell_type": "code",
   "execution_count": 68,
   "metadata": {},
   "outputs": [],
   "source": [
    "def getXBRLInformation(company_name):\n",
    "  target_list = list.find_by_corp_name(company_name)\n",
    "  target_corp = list.find_by_corp_name(target_list[0].corp_name)[0]\n",
    "  reports = target_corp.search_filings(bgn_de='20190301')\n",
    "  latest_reports = reports[1]\n",
    "  return latest_reports.xbrl\n"
   ]
  },
  {
   "cell_type": "code",
   "execution_count": 17,
   "metadata": {},
   "outputs": [
    {
     "name": "stdout",
     "output_type": "stream",
     "text": [
      "{'corp_cls': 'E',\n",
      " 'corp_code': '01250666',\n",
      " 'corp_name': '카카오모빌리티',\n",
      " 'flr_nm': '카카오모빌리티',\n",
      " 'rcept_dt': '20230830',\n",
      " 'rcp_no': '20230830000794',\n",
      " 'report_nm': '대규모기업집단현황공시[분기별공시(개별회사용)]',\n",
      " 'rm': '공',\n",
      " 'stock_code': ''}\n"
     ]
    }
   ],
   "source": [
    "print(latest_reports)"
   ]
  },
  {
   "cell_type": "code",
   "execution_count": 23,
   "metadata": {},
   "outputs": [
    {
     "name": "stdout",
     "output_type": "stream",
     "text": [
      "{'Document information [text block]': nan, 'Document title': 'Half Year Report', 'Amendment': 'false', 'Document creation date': '2023-08-24', 'Restatement of comparative financial statements': 'true'}\n"
     ]
    }
   ],
   "source": [
    "print(latest_reports.xbrl)"
   ]
  },
  {
   "cell_type": "code",
   "execution_count": 24,
   "metadata": {},
   "outputs": [],
   "source": [
    "xbrl = latest_reports.xbrl\n"
   ]
  },
  {
   "cell_type": "code",
   "execution_count": 72,
   "metadata": {},
   "outputs": [
    {
     "name": "stdout",
     "output_type": "stream",
     "text": [
      "   [D999004] - Entity Information, Entity (Unit: KRW)                                     20230101-20230630\n",
      "                                             label_ko                            label_en                ()\n",
      "0                                 공시대상정보 [text block]     Entity information [text block]               NaN\n",
      "1                                            공시대상,법인명              Entity iegistrant name    Kakao Mobility\n",
      "2                                           공시대상,고유번호            Entity central index key         1250666.0\n",
      "3                                           공시대상,법인번호    Entity legal registration number    131111-0481819\n",
      "4                                            공시대상,결산월                 Entity fiscal month          December\n",
      "5                            공시대상,상장정보 (유가증권/코스닥/코넥스)                   Domestic exchange  Unlisted Company\n",
      "6                                         공시대상,해외상장정보              International exchange               N/A\n",
      "7                                         공시대상,산업분류코드              Standard industry code            6399.0\n",
      "8                                        공시대상,통화ISO코드  Entity reporting currency ISO code               KRW\n",
      "9                                           공시대상,단위정보                           Unit Info               1.0\n",
      "10                                           공시대상,주주수             Number of stock holders               0.0\n",
      "11                                          공시대상,종업원수                 Number of employees               0.0\n"
     ]
    }
   ],
   "source": [
    "# xbrl.exist_consolidated()\n",
    "\n",
    "def getCompanyInformation(xbrl):\n",
    "  return xbrl.get_entity_information().to_string()\n",
    "\n",
    "#print(getCompanyInformation(xbrl))"
   ]
  },
  {
   "cell_type": "code",
   "execution_count": 53,
   "metadata": {},
   "outputs": [],
   "source": [
    "def getReportAuditInformation(xbrl):\n",
    "  return xbrl.get_audit_information().to_string()\n",
    "  "
   ]
  },
  {
   "cell_type": "code",
   "execution_count": 71,
   "metadata": {},
   "outputs": [
    {
     "name": "stdout",
     "output_type": "stream",
     "text": [
      "  [D999001] - Document Information, Document (Unit: KRW)                                                  20230101-20230630\n",
      "                                                label_ko                                         label_en    (당기(당분기,당반기),)\n",
      "0                                    공시문서정보 [text block]                Document information [text block]               NaN\n",
      "1                                                공시문서 제목                                   Document title  Half Year Report\n",
      "2                                                  수정 여부                                        Amendment             false\n",
      "3                                      공시문서 작성일 (문서 제출일)                           Document creation date        2023-08-24\n",
      "4                                          비교표시재무제표 작성여부  Restatement of comparative financial statements              true\n"
     ]
    }
   ],
   "source": [
    "def getReportInformation(xbrl):\n",
    "  return xbrl.get_document_information().to_string()\n",
    "\n",
    "#print(getReportInformation(xbrl))"
   ]
  },
  {
   "cell_type": "code",
   "execution_count": 57,
   "metadata": {},
   "outputs": [],
   "source": [
    "def getCashFlowStatement(xbrl):\n",
    "  cashflows = \"\"\n",
    "  for cashflow in xbrl.get_cash_flows():\n",
    "    cashflows += cashflow.to_DataFrame(show_class=False).to_string() + \"\\n\"\n",
    "  return cashflows"
   ]
  },
  {
   "cell_type": "code",
   "execution_count": 63,
   "metadata": {},
   "outputs": [],
   "source": [
    "def getFinancialStatement(xbrl):\n",
    "  statements = \"\"\n",
    "  for statement in xbrl.get_financial_statement():\n",
    "    statements += statement.to_DataFrame(show_class=False).to_string() + \"\\n\"\n",
    "  return statements\n"
   ]
  },
  {
   "cell_type": "code",
   "execution_count": 64,
   "metadata": {},
   "outputs": [
    {
     "name": "stdout",
     "output_type": "stream",
     "text": [
      "   [D210000] Statement of financial position, current/non-current - Consolidated financial statements (Unit: KRW)                                                                                                                         20230630                                20221231                              20220630                  \n",
      "                                                                                                       concept_id             label_ko                                                                                label_en           (연결재무제표,)           (별도재무제표,)           (연결재무제표,)           (별도재무제표,)         (연결재무제표,)         (별도재무제표,)\n",
      "0                                                                                         ifrs-full_CurrentAssets                 유동자산                                                                          Current assets   632,386,500,449.0   543,638,862,730.0   621,334,374,396.0   524,640,880,342.0               NaN               NaN\n",
      "1                                                                                ifrs-full_CashAndCashEquivalents             현금및현금성자산                                                               Cash and cash equivalents   421,623,117,889.0   344,979,951,714.0   390,591,732,977.0   313,603,031,353.0               NaN               NaN\n",
      "2                                                            dart_ShortTermDepositsNotClassifiedAsCashEquivalents               단기금융상품                                  Short-term deposits not classified as cash equivalents     8,494,390,137.0                 NaN                 0.0                 NaN               NaN               NaN\n",
      "3                                                                                   dart_ShortTermTradeReceivable                 매출채권                                                             Short-term trade Receivable    62,955,203,050.0    54,168,720,284.0    53,224,467,136.0    45,792,106,626.0               NaN               NaN\n",
      "4                                                              entity01250666_udf_BS_20233819121629_CurrentAssets    당기손익-공정가치 측정 금융자산                          Financial assets measured at fair value through profit or loss   105,052,166,202.0                 NaN   140,613,665,882.0                 NaN               NaN               NaN\n",
      "5                                                                           ifrs-full_OtherCurrentFinancialAssets             기타유동금융자산                                                          Other current financial assets    20,561,398,890.0    30,168,296,171.0    21,144,872,459.0    23,073,328,199.0               NaN               NaN\n",
      "6                                                                                           ifrs-full_Inventories                 재고자산                                                                             Inventories       927,650,657.0        36,918,312.0     1,253,146,717.0        60,713,956.0               NaN               NaN\n",
      "7                                                                                         dart_OtherCurrentAssets               기타유동자산                                                                    Other current assets    12,280,144,732.0     8,060,502,906.0    12,693,549,067.0     9,223,976,100.0               NaN               NaN\n",
      "8                                                                                      ifrs-full_CurrentTaxAssets              당기법인세자산                                                                      Current tax assets       492,428,892.0       441,944,745.0     1,812,940,158.0     1,593,201,120.0               NaN               NaN\n",
      "9                                                                                      ifrs-full_NoncurrentAssets                비유동자산                                                                      Non-current assets   910,006,677,032.0   849,654,126,611.0   925,206,040,579.0   869,265,882,268.0               NaN               NaN\n",
      "10                                                            dart_LongTermDepositsNotClassifiedAsCashEquivalents    당기손익-공정가치 측정 금융자산                          Financial assets measured at fair value through profit or loss    15,767,212,514.0    15,767,212,514.0    12,767,212,514.0    12,767,212,514.0               NaN               NaN\n",
      "11                          ifrs-full_NoncurrentFinancialAssetsMeasuredAtFairValueThroughOtherComprehensiveIncome  기타포괄손익-공정가치 측정 금융자산  Non-current financial assets measured at fair value through other comprehensive income    15,090,530,548.0    15,111,892,885.0    15,052,208,863.0    15,073,571,200.0               NaN               NaN\n",
      "12                                                                       ifrs-full_OtherNoncurrentFinancialAssets            기타비유동금융자산                                                      Other non-current financial assets    33,480,258,388.0    31,793,978,496.0    28,520,703,255.0    23,403,303,405.0               NaN               NaN\n",
      "13                                                                                     dart_OtherNonCurrentAssets              기타비유동자산                                                                Other non-current assets       836,952,077.0       217,991,531.0     1,187,161,830.0       585,511,721.0               NaN               NaN\n",
      "14                                                                              ifrs-full_InvestmentsInAssociates               관계기업투자                                                               Investments in associates     9,003,256,950.0                 NaN    14,499,111,051.0                 NaN               NaN               NaN\n",
      "15                                                                            ifrs-full_PropertyPlantAndEquipment                 유형자산                                                           Property, plant and equipment    59,742,658,789.0    36,600,535,630.0    63,295,984,391.0    40,202,289,739.0               NaN               NaN\n",
      "16                                                                                dart_OtherIntangibleAssetsGross                 무형자산                                                                Intangible assets, gross   268,807,252,963.0   106,363,056,848.0   269,323,587,111.0   103,531,824,473.0               NaN               NaN\n",
      "17                                                                                     ifrs-full_RightofuseAssets                사용권자산                                                                     Right-of-use assets   176,757,171,000.0    93,098,847,402.0   169,169,539,338.0   107,239,778,786.0               NaN               NaN\n",
      "18                                                          entity01250666_udf_BS_20233819639241_NoncurrentAssets              순확정급여자산                                                              Net Defined Benefit Assets        39,199,890.0                 NaN     1,969,114,544.0                 NaN               NaN               NaN\n",
      "19                                                                                    ifrs-full_DeferredTaxAssets              이연법인세자산                                                                     Deferred tax assets   330,482,183,913.0   320,510,589,179.0   349,421,417,682.0   331,915,105,566.0               NaN               NaN\n",
      "20                                                                                               ifrs-full_Assets                 자산총계                                                                            Total assets 1,542,393,177,481.0 1,393,292,989,341.0 1,546,540,414,975.0 1,393,906,762,610.0               NaN               NaN\n",
      "21                                                                                   ifrs-full_CurrentLiabilities                 유동부채                                                                     Current liabilities   287,691,751,029.0   220,936,549,467.0   276,810,859,736.0   215,598,825,144.0               NaN               NaN\n",
      "22                                                                                    dart_ShortTermOtherPayables                 미지급금                                                                        Accounts payable   128,315,159,240.0   114,463,041,937.0   123,987,891,021.0   109,106,427,613.0               NaN               NaN\n",
      "23                                                                                  ifrs-full_ShorttermBorrowings                단기차입금                                                                   Short-term borrowings    57,850,000,000.0    50,000,000,000.0    60,000,000,000.0    50,000,000,000.0               NaN               NaN\n",
      "24                                                                     ifrs-full_OtherCurrentFinancialLiabilities             기타유동금융부채                                                     Other current financial liabilities       295,186,316.0        16,630,421.0     1,039,894,454.0                 0.0               NaN               NaN\n",
      "25                                                                              ifrs-full_CurrentLeaseLiabilities               유동리스부채                                                               Current lease liabilities    63,065,856,129.0    31,016,210,278.0    54,810,023,305.0    31,092,466,775.0               NaN               NaN\n",
      "26                                                                                   dart_OtherCurrentLiabilities               기타유동부채                                                               Other current liabilities    35,240,235,101.0    23,236,361,554.0    33,979,484,182.0    23,428,734,663.0               NaN               NaN\n",
      "27                                                                                    ifrs-full_CurrentProvisions             기타유동충당부채                                                                Other current provisions     2,925,314,243.0     2,204,305,277.0     2,933,479,446.0     1,971,196,093.0               NaN               NaN\n",
      "28                                                                                ifrs-full_CurrentTaxLiabilities              당기법인세부채                                                                 Current tax liabilities                 0.0                 NaN        60,087,328.0                 NaN               NaN               NaN\n",
      "29                                                                                ifrs-full_NoncurrentLiabilities                비유동부채                                                                 Non-current liabilities   129,071,824,267.0    76,982,019,515.0   126,701,549,693.0    89,262,318,411.0               NaN               NaN\n",
      "30                                                                  ifrs-full_OtherNoncurrentFinancialLiabilities            기타비유동금융부채                                                 Other non-current financial liabilities       163,858,194.0       687,968,643.0       155,563,802.0       687,968,643.0               NaN               NaN\n",
      "31                                                                           ifrs-full_NoncurrentLeaseLiabilities              비유동리스부채                                                           Non-current lease liabilities   121,163,008,768.0    71,958,180,490.0   119,694,657,474.0    84,789,355,393.0               NaN               NaN\n",
      "32                                                                                dart_OtherNonCurrentLiabilities              기타비유동부채                                                           Other non-current liabilities         1,716,123.0                 NaN         1,716,123.0                 NaN               NaN               NaN\n",
      "33                                                    entity01250666_udf_BS_202338192348508_NoncurrentLiabilities              순확정급여부채                                                           Net defined benefit liability     2,824,417,004.0                 NaN     2,093,829,243.0                 NaN               NaN               NaN\n",
      "34                                                    entity01250666_udf_BS_202338192413566_NoncurrentLiabilities          기타장기종업원급여부채                                            Other long-term employee benefit liabilities       628,290,260.0                 NaN       634,240,260.0                 NaN               NaN               NaN\n",
      "35                                                    entity01250666_udf_BS_202338192422312_NoncurrentLiabilities            기타비유동충당부채                                                 Other Non-Current Provision Liabilities     4,290,533,918.0                 NaN     4,121,542,791.0                 NaN               NaN               NaN\n",
      "36                                                                                          ifrs-full_Liabilities                 부채총계                                                                       Total liabilities   416,763,575,296.0   297,918,568,982.0   403,512,409,429.0   304,861,143,555.0               NaN               NaN\n",
      "37                                                                   ifrs-full_EquityAttributableToOwnersOfParent           지배기업 소유주지분                                                 Equity attributable to owners of parent 1,126,271,493,577.0                 NaN 1,143,180,631,186.0                 NaN               NaN               NaN\n",
      "38                                                                                        ifrs-full_IssuedCapital                  자본금                                                                          Issued capital    25,476,515,900.0    25,476,515,900.0    25,475,324,300.0    25,475,324,300.0               NaN               NaN\n",
      "39                                                                                            dart_CapitalSurplus                자본잉여금                                                                         Capital surplus   874,221,761,151.0   871,319,423,597.0   874,128,627,165.0   871,368,437,271.0               NaN               NaN\n",
      "40                                                                                   dart_OtherCapitalAdjustments                 자본조정                                                                     Capital adjustments   341,603,528,093.0   331,593,773,649.0   336,774,982,425.0   326,765,227,981.0               NaN               NaN\n",
      "41                                                             dart_OtherComprehensiveIncomeLossAccumulatedAmount            기타포괄손익누계액                                      Other Comprehensive income/loss accumulated amount    -1,021,028,614.0    -1,235,976,491.0    -1,198,029,489.0    -1,225,472,303.0               NaN               NaN\n",
      "42                                                                                     ifrs-full_RetainedEarnings                  결손금                                                                                 Deficit  -114,009,282,953.0  -131,779,316,296.0   -92,000,273,215.0  -133,337,898,194.0               NaN               NaN\n",
      "43                                                                              ifrs-full_NoncontrollingInterests                비지배지분                                                               Non-controlling interests      -641,891,392.0                 NaN      -152,625,640.0                 NaN               NaN               NaN\n",
      "44                                                                                               ifrs-full_Equity                 자본총계                                                                            Total equity 1,125,629,602,185.0 1,095,374,420,359.0 1,143,028,005,546.0 1,089,045,619,055.0 848,990,987,807.0 845,365,390,498.0\n",
      "45                                                                                 ifrs-full_EquityAndLiabilities              자본과부채총계                                                            Total equity and liabilities 1,542,393,177,481.0 1,393,292,989,341.0 1,546,540,414,975.0 1,393,906,762,610.0               NaN               NaN\n",
      "\n"
     ]
    }
   ],
   "source": [
    "print(getFinancialStatement(xbrl))"
   ]
  },
  {
   "cell_type": "code",
   "execution_count": null,
   "metadata": {},
   "outputs": [],
   "source": [
    "xbrl.get_income_statement().to_DataFrame(show_class=False).to_string()"
   ]
  },
  {
   "cell_type": "code",
   "execution_count": 65,
   "metadata": {},
   "outputs": [],
   "source": [
    "\n",
    "def makeIncomeStatementContents(xbrl):\n",
    "  income_statements = \"\"\n",
    "  for income_statement in xbrl.get_income_statement():\n",
    "    income_statements += income_statement.to_DataFrame(show_class=False).to_string() + \"\\n\"\n",
    "  return income_statements\n",
    "\n"
   ]
  },
  {
   "cell_type": "code",
   "execution_count": 66,
   "metadata": {},
   "outputs": [
    {
     "name": "stdout",
     "output_type": "stream",
     "text": [
      "   [D431410] Statement of comprehensive income, by function of expense - Consolidated financial statements (Unit: KRW)                                                                                                                           20230401-20230630                   20230101-20230630                   20220401-20220630                   20220101-20220630                  \n",
      "                                                                                                            concept_id                    label_ko                                                                                      label_en         (별도재무제표,)         (연결재무제표,)         (별도재무제표,)         (연결재무제표,)         (연결재무제표,)         (별도재무제표,)         (연결재무제표,)         (별도재무제표,)\n",
      "0                                         entity01250666_udf_IS_202339183143723_StatementOfComprehensiveIncomeAbstract                        영업수익                                                                             Operating revenue               NaN 246,647,462,326.0               NaN 466,887,532,669.0 198,037,156,625.0               NaN 358,126,353,721.0               NaN\n",
      "1                                                                       dart_TotalSellingGeneralAdministrativeExpenses                        영업비용                                                       Selling general administrative expenses 181,264,859,012.0 239,844,396,729.0 346,696,642,588.0 455,175,771,437.0 190,674,918,262.0 155,086,303,890.0 351,137,678,364.0 283,968,353,346.0\n",
      "2                                                                                             dart_OperatingIncomeLoss                        영업이익                                                                        Operating income(loss)  14,654,358,501.0   6,803,065,597.0  19,861,311,671.0  11,711,761,232.0   7,362,238,363.0   7,015,983,269.0   6,988,675,357.0   6,544,109,987.0\n",
      "3                                                                                                      dart_OtherGains                        기타수익                                                                                   Other gains     832,940,133.0   1,298,131,649.0   1,178,686,678.0   2,046,479,793.0     387,988,241.0     135,350,383.0     894,276,756.0     236,915,312.0\n",
      "4                                                                                                     dart_OtherLosses                        기타비용                                                                                  Other losses   4,899,014,663.0   5,436,377,027.0   7,349,714,933.0   8,364,361,578.0   1,282,088,195.0   1,066,458,149.0   3,729,714,115.0   3,097,823,287.0\n",
      "5                                                                                              ifrs-full_FinanceIncome                        금융수익                                                                                Finance income   4,025,387,879.0   4,614,672,258.0   8,687,116,487.0   9,875,353,178.0   3,097,440,255.0   2,767,818,160.0   5,492,335,909.0   4,901,662,118.0\n",
      "6                                                                                               ifrs-full_FinanceCosts                        금융비용                                                                                 Finance costs   1,839,476,438.0   3,183,527,297.0   4,088,718,633.0   6,634,741,791.0   2,082,520,702.0   2,021,619,949.0   3,551,188,952.0   3,431,481,632.0\n",
      "7                                          entity01250666_udf_IS_20233910053539_StatementOfComprehensiveIncomeAbstract                       지분법손익                                                                Equity method gains and losses               NaN  -2,466,198,747.0               NaN  -5,106,137,734.0  -1,002,298,004.0               NaN  -1,206,732,358.0               NaN\n",
      "8                                                                                        ifrs-full_ProfitLossBeforeTax                 법인세비용차감전순이익                                                                      Profit (loss) before tax  12,774,195,412.0   1,629,766,433.0  18,288,681,270.0   3,528,353,100.0   6,480,759,958.0   6,831,073,714.0   4,887,652,597.0   5,153,382,498.0\n",
      "9                                                                       ifrs-full_IncomeTaxExpenseContinuingOperations                       법인세비용                                                                            Income tax expense  15,887,949,672.0  25,210,305,046.0  16,730,099,372.0  26,035,075,174.0   1,633,580,035.0   1,651,787,205.0     762,434,530.0     798,848,870.0\n",
      "10                                                                                                ifrs-full_ProfitLoss                   반기순이익(손실)                                                                                 Profit (loss)  -3,113,754,260.0 -23,580,538,613.0   1,558,581,898.0 -22,506,722,074.0   4,847,179,923.0   5,179,286,509.0   4,125,218,067.0   4,354,533,628.0\n",
      "11                                                                     entity01250666_udf_IS_20233910753149_ProfitLoss                   지배기업소유주지분                                               Profit (loss), attributable to owners of parent               NaN -23,353,612,148.0               NaN -22,009,009,738.0   4,774,829,105.0               NaN   4,060,396,871.0               NaN\n",
      "12                                                                     entity01250666_udf_IS_20233910823538_ProfitLoss                       비지배지분                                      Profit (loss), attributable to non-controlling interests               NaN    -226,926,465.0               NaN    -497,712,336.0      72,350,818.0               NaN      64,821,196.0               NaN\n",
      "13                                                                                  ifrs-full_OtherComprehensiveIncome                    반기기타포괄손익                                                              Other comprehensive income(loss)    -352,337,148.0    -352,337,161.0     -10,504,188.0     177,000,875.0    -729,067,500.0    -729,067,500.0  -2,311,076,474.0  -2,328,903,787.0\n",
      "14                                                      entity01250666_udf_IS_202339202759720_OtherComprehensiveIncome          당기손익으로 재분류되지 않는 항목                                                Items not to be reclassified to profit or loss               NaN               NaN               NaN               NaN               NaN               NaN               NaN               NaN\n",
      "15                               entity01250666_udf_IS_202339202825990_udf_IS_202339202759720_OtherComprehensiveIncome  - 기타포괄손익-공정가치 측정 금융자산 평가손익  Other Comprehensive Income Fair Value Measurement Gain/Loss on Valuation of Financial Assets               NaN    -352,337,148.0               NaN     -10,504,188.0    -729,067,500.0               NaN  -1,176,761,250.0               NaN\n",
      "16                               entity01250666_udf_IS_202339202931759_udf_IS_202339202759720_OtherComprehensiveIncome             - 순확정급여부채 재측정요소                                         Net defined benefit liability remeasurement component               NaN               0.0               NaN               0.0               0.0               NaN  -1,134,315,224.0               NaN\n",
      "17                              entity01250666_udf_IS_2023522151412873_udf_IS_202339202759720_OtherComprehensiveIncome                   - 지분법자본변동                                                              Changes in equity method capital               NaN             -13.0               NaN     187,505,063.0               0.0               NaN               0.0               NaN\n",
      "18                                                                                       ifrs-full_ComprehensiveIncome                반기총포괄순이익(손실)                                                         Total Comprehensive Net Income (Loss)  -3,466,091,408.0 -23,932,875,774.0   1,548,077,710.0 -22,329,721,199.0   4,118,112,423.0   4,450,219,009.0   1,814,141,593.0   2,025,629,841.0\n",
      "19                                                           ifrs-full_ComprehensiveIncomeAttributableToOwnersOfParent                   지배기업소유주지분                                        Comprehensive income, attributable to owners of parent               NaN -23,705,949,309.0               NaN -21,832,008,863.0   4,035,402,530.0               NaN   1,731,431,700.0               NaN\n",
      "20                                                  ifrs-full_ComprehensiveIncomeAttributableToNoncontrollingInterests                       비지배지분                               Comprehensive income, attributable to non-controlling interests               NaN    -226,926,465.0               NaN    -497,712,336.0      82,709,893.0               NaN      82,709,893.0               NaN\n",
      "21                                                                                 ifrs-full_BasicEarningsLossPerShare                 기본주당순이익(손실)                                                               Basic earnings (loss) per share             -12.0             -92.0               6.0             -86.0              19.0              20.0              16.0              17.0\n",
      "22                                                                               ifrs-full_DilutedEarningsLossPerShare                 희석주당순이익(손실)                                                             Diluted earnings (loss) per share             -12.0             -92.0               6.0             -86.0              19.0              20.0              16.0              17.0\n",
      "\n"
     ]
    }
   ],
   "source": [
    "print(makeIncomeStatementContents(xbrl))"
   ]
  },
  {
   "cell_type": "code",
   "execution_count": 69,
   "metadata": {},
   "outputs": [],
   "source": [
    "xbrl2 = getXBRLInformation('카카오모빌리티')"
   ]
  },
  {
   "cell_type": "code",
   "execution_count": 81,
   "metadata": {},
   "outputs": [],
   "source": [
    "list.find_by_sector('493')"
   ]
  },
  {
   "cell_type": "code",
   "execution_count": 80,
   "metadata": {},
   "outputs": [
    {
     "data": {
      "text/html": [
       "<div>\n",
       "<style scoped>\n",
       "    .dataframe tbody tr th:only-of-type {\n",
       "        vertical-align: middle;\n",
       "    }\n",
       "\n",
       "    .dataframe tbody tr th {\n",
       "        vertical-align: top;\n",
       "    }\n",
       "\n",
       "    .dataframe thead th {\n",
       "        text-align: right;\n",
       "    }\n",
       "</style>\n",
       "<table border=\"1\" class=\"dataframe\">\n",
       "  <thead>\n",
       "    <tr style=\"text-align: right;\">\n",
       "      <th></th>\n",
       "      <th>Industy_code</th>\n",
       "      <th>Industy_name</th>\n",
       "    </tr>\n",
       "  </thead>\n",
       "  <tbody>\n",
       "    <tr>\n",
       "      <th>1284</th>\n",
       "      <td>493</td>\n",
       "      <td>도로 화물 운송업</td>\n",
       "    </tr>\n",
       "  </tbody>\n",
       "</table>\n",
       "</div>"
      ],
      "text/plain": [
       "     Industy_code Industy_name\n",
       "1284          493    도로 화물 운송업"
      ]
     },
     "execution_count": 80,
     "metadata": {},
     "output_type": "execute_result"
    }
   ],
   "source": [
    "# 산업분류 코드 확인\n",
    "import pandas as pd\n",
    "\n",
    "url = 'https://github.com/FinanceData/KSIC/raw/master/KSIC_10.csv.gz'\n",
    "\n",
    "df_ksic = pd.read_csv(url, dtype='str')\n",
    "df_ksic[df_ksic['Industy_code'] == '493']"
   ]
  },
  {
   "cell_type": "code",
   "execution_count": 84,
   "metadata": {},
   "outputs": [
    {
     "name": "stdout",
     "output_type": "stream",
     "text": [
      "도로 화물 운송업\n"
     ]
    }
   ],
   "source": [
    "def getIndustryName(code):\n",
    "  return df_ksic[df_ksic['Industy_code'] == code]['Industy_name'].values[0]\n",
    "\n",
    "print(getIndustryName('493'))"
   ]
  }
 ],
 "metadata": {
  "kernelspec": {
   "display_name": "sales-autobot",
   "language": "python",
   "name": "python3"
  },
  "language_info": {
   "codemirror_mode": {
    "name": "ipython",
    "version": 3
   },
   "file_extension": ".py",
   "mimetype": "text/x-python",
   "name": "python",
   "nbconvert_exporter": "python",
   "pygments_lexer": "ipython3",
   "version": "3.9.5"
  }
 },
 "nbformat": 4,
 "nbformat_minor": 2
}
