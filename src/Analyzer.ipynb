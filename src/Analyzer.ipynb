{
 "cells": [
  {
   "cell_type": "markdown",
   "metadata": {},
   "source": [
    "## Insight from the various information\n",
    "\n",
    "Many sales person want to know about their counter accounts. And they also want to know the business trend and insights to deliver more relevant solutions to their customers. \n",
    "\n",
    "But in many cases, the customers - especially greenfield customers - doesn't want to show their pains and short-term/long-term goals to the sales person in the vendors. \n",
    "\n",
    "Our goal is to analyze their business status from their financial statements and pain points from ther crapped news from the internet.\n"
   ]
  },
  {
   "cell_type": "code",
   "execution_count": null,
   "metadata": {},
   "outputs": [],
   "source": [
    "# !pip install google-cloud-aiplatform langchain chroma\n",
    "# !pip install html5lib\n",
    "# !pip install openai\n",
    "# !pip install opendartreader\n",
    "# !pip install numexpr\n",
    "# !pip install dart-fss\n",
    "# !pip install ipywidgets\n",
    "# !pip install google-api-python-client\n"
   ]
  },
  {
   "cell_type": "code",
   "execution_count": null,
   "metadata": {},
   "outputs": [],
   "source": [
    "import os\n",
    "import OpenDartReader\n",
    "from OpenDartReader.dart_list import *\n",
    "\n",
    "DART_API_KEY=os.getenv(\"DART_API_KEY\")\n",
    "dartReader = OpenDartReader(DART_API_KEY)\n",
    "df_companylist = corp_codes(DART_API_KEY)"
   ]
  },
  {
   "cell_type": "code",
   "execution_count": null,
   "metadata": {},
   "outputs": [],
   "source": [
    "import dart_fss as dart\n",
    "import os\n",
    "\n",
    "# Open DART API KEY 설정\n",
    "api_key=os.getenv('DART_API_KEY')\n",
    "dart.set_api_key(api_key=api_key)\n",
    "dart_corp_list=dart.get_corp_list()"
   ]
  },
  {
   "cell_type": "code",
   "execution_count": null,
   "metadata": {},
   "outputs": [],
   "source": [
    "import vertexai\n",
    "from langchain.chat_models import ChatVertexAI\n",
    "from langchain.llms import VertexAI\n",
    "\n",
    "PROJECT_ID = os.getenv(\"PROJECT_ID\")  # @param {type:\"string\"}\n",
    "vertexai.init(project=PROJECT_ID, location=\"us-central1\")\n",
    "\n",
    "llm_vertex = VertexAI(\n",
    "    model_name=\"text-bison@latest\",\n",
    "    max_output_tokens=2048,\n",
    "    temperature=0,\n",
    "    top_p=0.8,\n",
    "    top_k=40,\n",
    ")\n",
    "\n",
    "# llm_vertexchat = ChatVertexAI()\n"
   ]
  },
  {
   "cell_type": "code",
   "execution_count": null,
   "metadata": {},
   "outputs": [],
   "source": [
    "# from langchain.chat_models import ChatOpenAI\n",
    "\n",
    "# llm_openai = ChatOpenAI(temperature=0)\n"
   ]
  },
  {
   "cell_type": "code",
   "execution_count": null,
   "metadata": {},
   "outputs": [],
   "source": [
    "llm = llm_vertex"
   ]
  },
  {
   "cell_type": "code",
   "execution_count": null,
   "metadata": {},
   "outputs": [],
   "source": [
    "from langchain.tools import Tool\n",
    "from langchain.utilities import GoogleSearchAPIWrapper\n",
    "\n",
    "search = GoogleSearchAPIWrapper()\n",
    "tools = []\n",
    "\n",
    "def top5_results(query):\n",
    "    query = query.replace(\"'\",\"\")\n",
    "    return search.results(query=query, num_results=5)\n",
    "\n",
    "search_tool = Tool(\n",
    "    name=\"search\",\n",
    "    description=\"search snippets through google internet search engine with result format json - title, link, snippet - list and 5 results. useful for finding related information.\",\n",
    "    func=top5_results,\n",
    ")\n",
    "\n",
    "tools.append(search_tool)\n"
   ]
  },
  {
   "cell_type": "code",
   "execution_count": null,
   "metadata": {},
   "outputs": [],
   "source": [
    "from bs4 import BeautifulSoup\n",
    "import requests\n",
    "\n",
    "\n",
    "def getHtmlContentFromUrl(url_link):\n",
    "  url_link = url_link.replace(\"'\",\"\")\n",
    "  response = requests.get(url_link, timeout=10)\n",
    "  html_content = response.text\n",
    "  soup = BeautifulSoup(html_content, 'lxml')\n",
    "  for script in soup.find_all('script'):\n",
    "    script.extract()\n",
    "  list_content = soup.find_all('p')\n",
    "  joined_content = ''\n",
    "  for content in list_content:\n",
    "    joined_content += content.text\n",
    "  return joined_content\n",
    "\n",
    "crawl_tool = Tool(\n",
    "  name=\"crawl\",\n",
    "  description=\"crawl html content from url. useful for crawling news articles with url which is provided by search tool.\",\n",
    "  func=getHtmlContentFromUrl,\n",
    ")\n",
    "\n",
    "tools.append(crawl_tool)"
   ]
  },
  {
   "cell_type": "code",
   "execution_count": null,
   "metadata": {},
   "outputs": [],
   "source": [
    "def searchCorpCodeFromCompanyName(company_name):\n",
    "    print(\"SEARCH CORP NAME:\" + company_name)\n",
    "    company_name = company_name.replace(\"'\",\"\")\n",
    "    return df_companylist[df_companylist['corp_name'].str.startswith(company_name)].to_string(index=False)\n",
    "\n",
    "# def searchDocumentsFromDart(documentId):\n",
    "#   return dart.list(documentId, start='1999-01-01', kind='A') \n",
    "\n",
    "print(searchCorpCodeFromCompanyName(\"CJ대한통운\"))\n",
    "\n",
    "search_corp_code_tool = Tool(\n",
    "    name=\"search_corp_code\",\n",
    "    description=\"search corp code from company name. useful for searching corp code from company name.\",\n",
    "    func=searchCorpCodeFromCompanyName,\n",
    ")\n",
    "\n",
    "tools.append(search_corp_code_tool)"
   ]
  },
  {
   "cell_type": "code",
   "execution_count": null,
   "metadata": {},
   "outputs": [],
   "source": [
    "def getCompanyOverallInformationWithIndustryCode(corp_code):\n",
    "  corp_code=corp_code.replace(\"'\",\"\")\n",
    "  return dartReader.company(corp_code)\n",
    "\n",
    "print(getCompanyOverallInformationWithIndustryCode(\"00113410\"))\n",
    "\n",
    "company_overall_information_tool = Tool(\n",
    "    name=\"company_overall_information_with_industry_code\",\n",
    "    description=\"get company overall information and related industry code from corp code. useful for getting company overall information from corp code.\",\n",
    "    func=getCompanyOverallInformationWithIndustryCode,\n",
    ")\n",
    "\n",
    "tools.append(company_overall_information_tool)"
   ]
  },
  {
   "cell_type": "code",
   "execution_count": null,
   "metadata": {},
   "outputs": [],
   "source": [
    "prompt_template_cfo_role_current_state = \"\"\"As the CFO role, please check the current financial statement and dfine the current state of the company.\n",
    "\n",
    "context:\n",
    "{context}\"\"\"\n",
    "prompt_template_cfo_role_business_action = \"\"\"As the CFO role, please make the Business Goals and Actions to be taken next year for the given financial statement. Define larger categories for Business Goals. Provide the response in the format of Category | Business Goal | Action.\n",
    "\n",
    "context:\n",
    "{context}\"\"\"\n",
    "prompt_template_cfo_role_finance_summary = \"\"\"Summary the given financial statement and provide the summary with growth rate and direction of the company. Check the overall score of this company\n",
    "\n",
    "Context :\n",
    "{context}\n",
    "\"\"\"\n",
    "prompt_template_cfo_role_finance_score = \"\"\"As a M&A investor in a investment bank, Check the overall financial statement and provide whether the company is in good shape or not. Provide the overall score of this company from 0 to 100\n",
    "\n",
    "Context :\n",
    "{context}\n",
    "\"\"\"\n",
    "\n",
    "def makeCurrentStateAsCfo(financial_statement):\n",
    "  response = llm.predict(prompt_template_cfo_role_current_state.format(context=financial_statement))\n",
    "  return response\n",
    "\n",
    "def makeBusinessGoalAsCfo(financial_statement):\n",
    "  response = llm.predict(prompt_template_cfo_role_business_action.format(context=financial_statement))\n",
    "  return response\n",
    "\n",
    "def makeFinancialSummary(financial_statement):\n",
    "  response = llm.predict(prompt_template_cfo_role_finance_summary.format(context=financial_statement))\n",
    "  return response\n",
    "\n",
    "def makeFinancialScore(financial_statement):\n",
    "  response = llm.predict(prompt_template_cfo_role_finance_score.format(context=financial_statement))\n",
    "  return response"
   ]
  },
  {
   "cell_type": "code",
   "execution_count": null,
   "metadata": {},
   "outputs": [],
   "source": [
    "# 산업분류 코드 확인\n",
    "import pandas as pd\n",
    "\n",
    "url = 'https://github.com/FinanceData/KSIC/raw/master/KSIC_10.csv.gz'\n",
    "\n",
    "df_ksic = pd.read_csv(url, dtype='str')\n",
    "#df_ksic[df_ksic['Industy_code'] == '493']"
   ]
  },
  {
   "cell_type": "code",
   "execution_count": null,
   "metadata": {},
   "outputs": [],
   "source": [
    "def getIndustryName(industy_code):\n",
    "  industy_code = industy_code.replace(\"'\",\"\")\n",
    "  if checkDataFrameHas0Record(df_ksic[df_ksic['Industy_code'] == industy_code]):\n",
    "    return 'no industry name. before to use this tool, use company_overall_information_with_industry_code tool and get industy_code field.'\n",
    "  return df_ksic[df_ksic['Industy_code'] == industy_code]['Industy_name'].values[0]\n",
    "\n",
    "def checkDataFrameHas0Record(df):\n",
    "  if df.shape[0] == 0:\n",
    "    return True\n",
    "  else:\n",
    "    return False\n",
    "\n",
    "#print(getIndustryName('493'))\n",
    "\n",
    "industry_name_retrevial_tool = Tool(\n",
    "    name=\"industry_name_retrevial\",\n",
    "    description=\"get industry name from industry code. before to use this tool, you should know the 'industry_code'. useful for getting industry name from industry code.\",\n",
    "    func=getIndustryName,\n",
    ")\n",
    "\n",
    "tools.append(industry_name_retrevial_tool)"
   ]
  },
  {
   "cell_type": "code",
   "execution_count": null,
   "metadata": {},
   "outputs": [],
   "source": [
    "def getCorpListByIndustry(industry_name):\n",
    "    corp_list = dart.get_corp_list().find_by_sector(industry_name)\n",
    "    if corp_list is None:\n",
    "        return \"There is no matched corporation. Please use industry_name_retrevial tool before to use it.\"\n",
    "    return \n",
    "\n",
    "corp_list_by_industry_retrevial_tool = Tool(\n",
    "    name=\"corp_list_by_industry_name_retrevial_tool\",\n",
    "    description=\"get corporation list-[corp_cord]corp_name- by industry_name which can be retrieved by industry_name_retrevial tool.\",\n",
    "    func=getCorpListByIndustry\n",
    ")\n",
    "\n",
    "tools.append(corp_list_by_industry_retrevial_tool)"
   ]
  },
  {
   "cell_type": "code",
   "execution_count": null,
   "metadata": {},
   "outputs": [],
   "source": [
    "xbrl = None\n",
    "\n",
    "def prepareFinancialXBRLInformation(corp_code):\n",
    "  corp_code=corp_code.replace(\"'\",\"\")\n",
    "  target_corp = dart_corp_list.find_by_corp_code(corp_code)\n",
    "  reports = target_corp.search_filings(bgn_de='20190301')\n",
    "  for report in reports:\n",
    "    if report.xbrl is not None:\n",
    "      xbrl = report.xbrl\n",
    "      return xbrl\n",
    "  return False\n",
    "\n",
    "def getCashFlowStatement(corp_code_with_digit_8):\n",
    "  corp_code = corp_code_with_digit_8\n",
    "  corp_code = corp_code.replace(\"'\",\"\")\n",
    "  if len(corp_code) != 8:\n",
    "    return \"Before to use this tool, retrieve the company code(corp_code) from the searchCorpCodeFromCompanyName tool instead of using stock_code - 6 digit.\"\n",
    "  target_corp = dart_corp_list.find_by_corp_code(corp_code)\n",
    "  if target_corp is None:\n",
    "    return \"No Company Found. You should check the company code(corp_code) from the searchCorpCodeFromCompanyName tool instead of stock_code(ex:005963).\"\n",
    "  if prepareFinancialXBRLInformation(corp_code) == False:\n",
    "    return \"No Financial Statement Found\"\n",
    "  cashflows = \"\"\n",
    "  xbrl = prepareFinancialXBRLInformation(corp_code)\n",
    "  if xbrl is None:\n",
    "    return \"No Financial Statement Found\"\n",
    "  for cashflow in xbrl.get_cash_flows():\n",
    "    cashflows += cashflow.to_DataFrame(show_class=False).to_string() + \"\\n\"\n",
    "  return cashflows\n",
    "\n",
    "cashflow_statement_tool_with_corp_code = Tool(\n",
    "    name=\"cashflow_statement\",\n",
    "    description=\"get cashflow statement from corp code. useful for getting cashflow statement from corp_code.\",\n",
    "    func=getCashFlowStatement,\n",
    ")\n",
    "\n",
    "tools.append(cashflow_statement_tool_with_corp_code)\n"
   ]
  },
  {
   "cell_type": "code",
   "execution_count": null,
   "metadata": {},
   "outputs": [],
   "source": [
    "from langchain.chains import LLMMathChain\n",
    "\n",
    "llm_math_chain = LLMMathChain(llm=llm, verbose=True)\n",
    "\n",
    "def calculator(calculatorInputString):\n",
    "  llm_math_chain.run(calculatorInputString)\n",
    "\n",
    "calculator_tool = Tool(\n",
    "    name=\"calculator\",\n",
    "    description=\"calculator tool. useful for calculating mathematical expressions.\",\n",
    "    func=calculator,\n",
    ")\n",
    "\n",
    "tools.append(calculator_tool)"
   ]
  },
  {
   "cell_type": "code",
   "execution_count": null,
   "metadata": {},
   "outputs": [],
   "source": [
    "from pydantic import BaseModel, Field\n",
    "from langchain.agents import AgentType, initialize_agent\n",
    "\n",
    "agent = initialize_agent(\n",
    "    tools, llm, agent=AgentType.ZERO_SHOT_REACT_DESCRIPTION, verbose=True\n",
    ")\n",
    "\n",
    "agent.run(\"CJ대한통운 과 같은 산업군 에 속한 회사의 전반적인 현금흐름을 알고 싶습니다. \")\n"
   ]
  },
  {
   "cell_type": "code",
   "execution_count": null,
   "metadata": {},
   "outputs": [],
   "source": []
  }
 ],
 "metadata": {
  "kernelspec": {
   "display_name": "sales-autobot",
   "language": "python",
   "name": "python3"
  },
  "language_info": {
   "codemirror_mode": {
    "name": "ipython",
    "version": 3
   },
   "file_extension": ".py",
   "mimetype": "text/x-python",
   "name": "python",
   "nbconvert_exporter": "python",
   "pygments_lexer": "ipython3",
   "version": "3.9.6"
  }
 },
 "nbformat": 4,
 "nbformat_minor": 2
}
