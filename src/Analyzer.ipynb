{
 "cells": [
  {
   "cell_type": "markdown",
   "metadata": {},
   "source": [
    "## Insight from the various information\n",
    "\n",
    "Many sales person want to know about their counter accounts. And they also want to know the business trend and insights to deliver more relevant solutions to their customers. \n",
    "\n",
    "But in many cases, the customers - especially greenfield customers - doesn't want to show their pains and short-term/long-term goals to the sales person in the vendors. \n",
    "\n",
    "Our goal is to analyze their business status from their financial statements and pain points from ther crapped news from the internet.\n"
   ]
  },
  {
   "cell_type": "code",
   "execution_count": 1,
   "metadata": {},
   "outputs": [],
   "source": [
    "# !pip install google-cloud-aiplatform langchain chroma\n",
    "# !pip install html5lib\n",
    "# !pip install openai\n",
    "# !pip install opendartreader\n",
    "# !pip install numexpr\n",
    "# !pip install dart-fss\n",
    "# !pip install ipywidgets\n",
    "# !pip install google-api-python-client\n"
   ]
  },
  {
   "cell_type": "code",
   "execution_count": 2,
   "metadata": {},
   "outputs": [],
   "source": [
    "import os\n",
    "import OpenDartReader\n",
    "from OpenDartReader.dart_list import *\n",
    "\n",
    "DART_API_KEY=os.getenv(\"DART_API_KEY\")\n",
    "dartReader = OpenDartReader(DART_API_KEY)\n",
    "df_companylist = corp_codes(DART_API_KEY)"
   ]
  },
  {
   "cell_type": "code",
   "execution_count": 3,
   "metadata": {},
   "outputs": [
    {
     "name": "stdout",
     "output_type": "stream",
     "text": [
      "AAA\n",
      "BBB\n",
      "BBB\n",
      "BBB\n",
      "CCC\n",
      "DDD\n"
     ]
    }
   ],
   "source": [
    "import dart_fss as dart\n",
    "import os\n",
    "\n",
    "# Open DART API KEY 설정\n",
    "api_key=os.getenv('DART_API_KEY')\n",
    "dart.set_api_key(api_key=api_key)\n",
    "dart_corp_list=dart.get_corp_list()"
   ]
  },
  {
   "cell_type": "code",
   "execution_count": 4,
   "metadata": {},
   "outputs": [],
   "source": [
    "import vertexai\n",
    "from langchain.chat_models import ChatVertexAI\n",
    "from langchain.llms import VertexAI\n",
    "\n",
    "PROJECT_ID = os.getenv(\"PROJECT_ID\")  # @param {type:\"string\"}\n",
    "vertexai.init(project=PROJECT_ID, location=\"us-central1\")\n",
    "\n",
    "llm_vertex = VertexAI(\n",
    "    #model_name=\"text-bison@latest\",\n",
    "    model_name=\"text-bison-32k\",\n",
    "    max_output_tokens=8000,\n",
    "    temperature=0,\n",
    "    top_p=0.8,\n",
    "    top_k=40,\n",
    ")\n",
    "\n",
    "# llm_vertexchat = ChatVertexAI()\n"
   ]
  },
  {
   "cell_type": "code",
   "execution_count": 5,
   "metadata": {},
   "outputs": [],
   "source": [
    "# from langchain.chat_models import ChatOpenAI\n",
    "\n",
    "# llm_openai = ChatOpenAI(temperature=0)\n"
   ]
  },
  {
   "cell_type": "code",
   "execution_count": 6,
   "metadata": {},
   "outputs": [],
   "source": [
    "llm = llm_vertex"
   ]
  },
  {
   "cell_type": "code",
   "execution_count": 7,
   "metadata": {},
   "outputs": [],
   "source": [
    "from langchain.tools import Tool\n",
    "from langchain.utilities import GoogleSearchAPIWrapper\n",
    "\n",
    "search = GoogleSearchAPIWrapper()\n",
    "tools = []\n",
    "\n",
    "def top5_results(query):\n",
    "    query = query.replace(\"'\",\"\")\n",
    "    return search.results(query=query, num_results=5)\n",
    "\n",
    "search_tool = Tool(\n",
    "    name=\"search\",\n",
    "    description=\"search snippets through google internet search engine with result format json - title, link, snippet - list and 5 results. useful for finding related information.\",\n",
    "    func=top5_results,\n",
    ")\n",
    "\n",
    "tools.append(search_tool)\n"
   ]
  },
  {
   "cell_type": "code",
   "execution_count": 8,
   "metadata": {},
   "outputs": [],
   "source": [
    "from bs4 import BeautifulSoup\n",
    "import requests\n",
    "\n",
    "\n",
    "def getHtmlContentFromUrl(url_link):\n",
    "  url_link = url_link.replace(\"'\",\"\")\n",
    "  response = requests.get(url_link, timeout=10)\n",
    "  html_content = response.text\n",
    "  soup = BeautifulSoup(html_content, 'lxml')\n",
    "  for script in soup.find_all('script'):\n",
    "    script.extract()\n",
    "  list_content = soup.find_all('p')\n",
    "  joined_content = ''\n",
    "  for content in list_content:\n",
    "    joined_content += content.text\n",
    "  return joined_content\n",
    "\n",
    "crawl_tool = Tool(\n",
    "  name=\"crawl\",\n",
    "  description=\"crawl html content from url. useful for crawling news articles with url which is provided by search tool.\",\n",
    "  func=getHtmlContentFromUrl,\n",
    ")\n",
    "\n",
    "tools.append(crawl_tool)"
   ]
  },
  {
   "cell_type": "code",
   "execution_count": 9,
   "metadata": {},
   "outputs": [
    {
     "name": "stdout",
     "output_type": "stream",
     "text": [
      "SEARCH CORP NAME:CJ대한통운\n",
      "corp_code corp_name stock_code modify_date\n",
      " 00113410    CJ대한통운     000120    20230105\n"
     ]
    }
   ],
   "source": [
    "def searchCorpCodeFromCompanyName(company_name):\n",
    "    print(\"SEARCH CORP NAME:\" + company_name)\n",
    "    company_name = company_name.replace(\"'\",\"\")\n",
    "    return df_companylist[df_companylist['corp_name'].str.startswith(company_name)].to_string(index=False)\n",
    "\n",
    "# def searchDocumentsFromDart(documentId):\n",
    "#   return dart.list(documentId, start='1999-01-01', kind='A') \n",
    "\n",
    "print(searchCorpCodeFromCompanyName(\"CJ대한통운\"))\n",
    "\n",
    "search_corp_code_tool = Tool(\n",
    "    name=\"search_corp_code\",\n",
    "    description=\"search corp code from company name. useful for searching corp code from company name.\",\n",
    "    func=searchCorpCodeFromCompanyName,\n",
    ")\n",
    "\n",
    "tools.append(search_corp_code_tool)"
   ]
  },
  {
   "cell_type": "code",
   "execution_count": 10,
   "metadata": {},
   "outputs": [
    {
     "name": "stdout",
     "output_type": "stream",
     "text": [
      "{'status': '000', 'message': '정상', 'corp_code': '00113410', 'corp_name': '씨제이대한통운(주)', 'corp_name_eng': 'CJ Logistics Corporation ', 'stock_name': 'CJ대한통운', 'stock_code': '000120', 'ceo_nm': '강신호,민영학(각자대표)', 'corp_cls': 'Y', 'jurir_no': '1101110006167', 'bizr_no': '1108105034', 'adres': '서울특별시 종로구 종로5길 7(청진동) Tower 8', 'hm_url': 'www.cjlogistics.com', 'ir_url': 'www.cjlogistics.com', 'phn_no': '02-3782-0114', 'fax_no': '02-771-8624', 'induty_code': '493', 'est_dt': '19301115', 'acc_mt': '12'}\n"
     ]
    }
   ],
   "source": [
    "def getCompanyOverallInformationWithIndustryCode(corp_code):\n",
    "  corp_code=corp_code.replace(\"'\",\"\")\n",
    "  return dartReader.company(corp_code)\n",
    "\n",
    "print(getCompanyOverallInformationWithIndustryCode(\"00113410\"))\n",
    "\n",
    "company_overall_information_tool = Tool(\n",
    "    name=\"company_overall_information_with_industry_code\",\n",
    "    description=\"get company overall information and related industry code from corp code. useful for getting company overall information from corp code.\",\n",
    "    func=getCompanyOverallInformationWithIndustryCode,\n",
    ")\n",
    "\n",
    "tools.append(company_overall_information_tool)"
   ]
  },
  {
   "cell_type": "code",
   "execution_count": 11,
   "metadata": {},
   "outputs": [],
   "source": [
    "prompt_template_cfo_role_current_state = \"\"\"As the CFO role, please check the current financial statement and dfine the current state of the company.\n",
    "\n",
    "context:\n",
    "{context}\"\"\"\n",
    "prompt_template_cfo_role_business_action = \"\"\"As the CFO role, please make the Business Goals and Actions to be taken next year for the given financial statement. Define larger categories for Business Goals. Provide the response in the format of Category | Business Goal | Action.\n",
    "\n",
    "context:\n",
    "{context}\"\"\"\n",
    "prompt_template_cfo_role_finance_summary = \"\"\"Summary the given financial statement and provide the summary with growth rate and direction of the company. Check the overall score of this company\n",
    "\n",
    "Context :\n",
    "{context}\n",
    "\"\"\"\n",
    "prompt_template_cfo_role_finance_score = \"\"\"As a M&A investor in a investment bank, Check the overall financial statement and provide whether the company is in good shape or not. Provide the overall score of this company from 0 to 100\n",
    "\n",
    "Context :\n",
    "{context}\n",
    "\"\"\"\n",
    "\n",
    "def makeCurrentStateAsCfo(financial_statement):\n",
    "  response = llm.predict(prompt_template_cfo_role_current_state.format(context=financial_statement))\n",
    "  return response\n",
    "\n",
    "def makeBusinessGoalAsCfo(financial_statement):\n",
    "  response = llm.predict(prompt_template_cfo_role_business_action.format(context=financial_statement))\n",
    "  return response\n",
    "\n",
    "def makeFinancialSummary(financial_statement):\n",
    "  response = llm.predict(prompt_template_cfo_role_finance_summary.format(context=financial_statement))\n",
    "  return response\n",
    "\n",
    "def makeFinancialScore(financial_statement):\n",
    "  response = llm.predict(prompt_template_cfo_role_finance_score.format(context=financial_statement))\n",
    "  return response"
   ]
  },
  {
   "cell_type": "code",
   "execution_count": 12,
   "metadata": {},
   "outputs": [],
   "source": [
    "# 산업분류 코드 확인\n",
    "import pandas as pd\n",
    "\n",
    "url = 'https://github.com/FinanceData/KSIC/raw/master/KSIC_10.csv.gz'\n",
    "\n",
    "df_ksic = pd.read_csv(url, dtype='str')\n",
    "#df_ksic[df_ksic['Industy_code'] == '493']"
   ]
  },
  {
   "cell_type": "code",
   "execution_count": 13,
   "metadata": {},
   "outputs": [],
   "source": [
    "def getIndustryName(industy_code):\n",
    "  if len(industy_code) != 3:\n",
    "    return 'industry code should be 3 digit number. use company_overall_information_with_industry_code tool and get industy_code field before to use it.'\n",
    "  industy_code = industy_code.replace(\"'\",\"\")\n",
    "  if checkDataFrameHas0Record(df_ksic[df_ksic['Industy_code'] == industy_code]):\n",
    "    return 'no industry name. before to use this tool, use company_overall_information_with_industry_code tool and get industy_code field.'\n",
    "  return df_ksic[df_ksic['Industy_code'] == industy_code]['Industy_name'].values[0]\n",
    "\n",
    "def checkDataFrameHas0Record(df):\n",
    "  if df.shape[0] == 0:\n",
    "    return True\n",
    "  else:\n",
    "    return False\n",
    "\n",
    "#print(getIndustryName('493'))\n",
    "\n",
    "industry_name_retrevial_tool = Tool(\n",
    "    name=\"industry_name_by_industry_code_retrevial\",\n",
    "    description=\"get industry name from industry code. before to use this tool, you should know the 'industry_code'. useful for getting industry name from industry code.\",\n",
    "    func=getIndustryName,\n",
    ")\n",
    "\n",
    "tools.append(industry_name_retrevial_tool)"
   ]
  },
  {
   "cell_type": "code",
   "execution_count": 14,
   "metadata": {},
   "outputs": [],
   "source": [
    "def getCorpListByIndustry(industry_name):\n",
    "    corp_list = dart.get_corp_list().find_by_sector(industry_name)\n",
    "    if corp_list is None:\n",
    "        if len(industry_name) == 3:\n",
    "            industry_name = getIndustryName(industry_name)\n",
    "            corp_list = dart.get_corp_list().find_by_sector(industry_name)\n",
    "            if corp_list is None:\n",
    "                return \"There is no matched corporation. Please use industry_name_retrevial tool before to use it.\"\n",
    "        else:\n",
    "            return \"There is no matched corporation. Please use industry_name_retrevial tool before to use it.\"\n",
    "    return corp_list\n",
    "\n",
    "corp_list_by_industry_retrevial_tool = Tool(\n",
    "    name=\"corp_list_by_industry_name_retrevial_tool\",\n",
    "    description=\"get corporation list witch format - [corp_cord]corp_name - by industry_name which can be retrieved by industry_name_retrevial tool.\",\n",
    "    func=getCorpListByIndustry\n",
    ")\n",
    "\n",
    "tools.append(corp_list_by_industry_retrevial_tool)"
   ]
  },
  {
   "cell_type": "code",
   "execution_count": 15,
   "metadata": {},
   "outputs": [],
   "source": [
    "xbrl = None\n",
    "\n",
    "def prepareFinancialXBRLInformation(corp_code):\n",
    "  corp_code=corp_code.replace(\"'\",\"\")\n",
    "  target_corp = dart_corp_list.find_by_corp_code(corp_code)\n",
    "  reports = target_corp.search_filings(bgn_de='20190301')\n",
    "  for report in reports:\n",
    "    if report.xbrl is not None:\n",
    "      xbrl = report.xbrl\n",
    "      return xbrl\n",
    "  return False\n",
    "\n",
    "def getCashFlowStatement(corp_code_with_digit_8):\n",
    "  corp_code = corp_code_with_digit_8\n",
    "  corp_code = corp_code.replace(\"'\",\"\")\n",
    "  if len(corp_code) != 8:\n",
    "    return \"Before to use this tool, retrieve the company code(corp_code) from the searchCorpCodeFromCompanyName tool instead of using stock_code - 6 digit.\"\n",
    "  target_corp = dart_corp_list.find_by_corp_code(corp_code)\n",
    "  if target_corp is None:\n",
    "    return \"No Company Found. You should check the company code(corp_code) from the searchCorpCodeFromCompanyName tool instead of stock_code(ex:005963).\"\n",
    "  if prepareFinancialXBRLInformation(corp_code) == False:\n",
    "    return \"No Financial Statement Found\"\n",
    "  cashflows = \"\"\n",
    "  xbrl = prepareFinancialXBRLInformation(corp_code)\n",
    "  if xbrl is None:\n",
    "    return \"No Financial Statement Found\"\n",
    "  cash_flows = xbrl.get_cash_flows()\n",
    "  if cash_flows is None:\n",
    "    return \"No Cash flow Statement Found\"\n",
    "  for cashflow in cash_flows:\n",
    "    cashflows += cashflow.to_DataFrame(show_class=False).drop(columns=['concept_id','label_en'], level=1, axis=1).astype(str) + \"\\n\"\n",
    "  return cashflows\n",
    "\n",
    "cashflow_statement_tool_with_corp_code = Tool(\n",
    "    name=\"cashflow_statement\",\n",
    "    description=\"get cashflow statement from corp code. useful for getting cashflow statement from corp_code.\",\n",
    "    func=getCashFlowStatement,\n",
    ")\n",
    "\n",
    "# tools.append(cashflow_statement_tool_with_corp_code)\n"
   ]
  },
  {
   "cell_type": "code",
   "execution_count": 16,
   "metadata": {},
   "outputs": [],
   "source": [
    "def getCacheFlowStatmentsListByCorporationCodes(corp_codes):\n",
    "  corp_codes = corp_codes.replace(\"'\",\"\").replace(\"[\",\"\").replace(\"]\",\"\").replace(\" \",\"\")\n",
    "  corp_codes = corp_codes.split(',')\n",
    "  cashflow_statements = []\n",
    "  for corp_code in corp_codes:\n",
    "    print('corp_code: {corp_code}'.format(corp_code=corp_code))\n",
    "    cashflow_statements.append(\"Corporation Code[{corp_code}] Cash flow Statment :\\n {statement}\".format(corp_code=corp_code, statement=getCashFlowStatement(corp_code)))\n",
    "  print(cashflow_statements)\n",
    "  return cashflow_statements\n",
    "\n",
    "cashflow_statement_tool_with_corp_codes = Tool(\n",
    "    name=\"cashflow_statement_list\",\n",
    "    description=\"get cashflow statement list from corp codes. useful for getting cashflow statement list from corp_codes.\",\n",
    "    func=getCacheFlowStatmentsListByCorporationCodes,\n",
    ")\n",
    "\n",
    "tools.append(cashflow_statement_tool_with_corp_codes)"
   ]
  },
  {
   "cell_type": "code",
   "execution_count": 17,
   "metadata": {},
   "outputs": [
    {
     "name": "stderr",
     "output_type": "stream",
     "text": [
      "/home/postgres/devel/sales-autobot/lib/python3.9/site-packages/langchain/chains/llm_math/base.py:56: UserWarning: Directly instantiating an LLMMathChain with an llm is deprecated. Please instantiate with llm_chain argument or using the from_llm class method.\n",
      "  warnings.warn(\n"
     ]
    }
   ],
   "source": [
    "from langchain.chains import LLMMathChain\n",
    "\n",
    "llm_math_chain = LLMMathChain(llm=llm, verbose=True)\n",
    "\n",
    "def calculator(calculatorInputString):\n",
    "  llm_math_chain.run(calculatorInputString)\n",
    "\n",
    "calculator_tool = Tool(\n",
    "    name=\"calculator\",\n",
    "    description=\"calculator tool. useful for calculating mathematical expressions.\",\n",
    "    func=calculator,\n",
    ")\n",
    "\n",
    "tools.append(calculator_tool)"
   ]
  },
  {
   "cell_type": "code",
   "execution_count": 18,
   "metadata": {},
   "outputs": [
    {
     "name": "stdout",
     "output_type": "stream",
     "text": [
      "\n",
      "\n",
      "> Entering new AgentExecutor chain...\n",
      " To find the overall cash flow of other 3 major companies in the same industry as 이마트, I need to know the industry of 이마트.\n",
      "Action: company_overall_information_with_industry_code\n",
      "Action Input: 이마트\n",
      "Observation: {'status': '000', 'message': '정상', 'corp_code': '00872984', 'corp_name': '(주)이마트', 'corp_name_eng': 'E-MART Inc.', 'stock_name': '이마트', 'stock_code': '139480', 'ceo_nm': '강희석', 'corp_cls': 'Y', 'jurir_no': '1101114594952', 'bizr_no': '2068650913', 'adres': '서울특별시 중구 세종대로7길 37', 'hm_url': 'emartcompany.com/ko/main.do', 'ir_url': 'http://emartcompany.com/ko/investor/governance_01.do', 'phn_no': '02-380-5678', 'fax_no': '02-380-9339', 'induty_code': '471', 'est_dt': '20110503', 'acc_mt': '12'}\n",
      "Thought: The industry code of 이마트 is 471.\n",
      "Action: industry_name_by_industry_code_retrevial\n",
      "Action Input: 471\n",
      "Observation: 종합 소매업\n",
      "Thought: The industry of 이마트 is 종합 소매업.\n",
      "Action: corp_list_by_industry_name_retrevial_tool\n",
      "Action Input: 종합 소매업\n",
      "Observation: [[00101628]경방, [00220561]광주신세계, [00108977]대구백화점, [00136378]신세계, [00140177]GS리테일, [00428251]현대백화점, [00267906]베뉴지, [00120526]롯데쇼핑, [00872984]이마트, [01263022]BGF리테일, [01722437]한화갤러리아, [01041828]JTC, [01721809]현대그린푸드, [00422895]세이브존I&C]\n",
      "Thought: The other 3 major companies in the same industry as 이마트 are 경방, 광주신세계, 대구백화점.\n",
      "Action: cashflow_statement_list\n",
      "Action Input: [00101628, 00220561, 00108977]corp_code: 00101628\n",
      "corp_code:  00220561\n",
      "corp_code:  00108977\n",
      "['Corporation Code[00101628] Cash flow Statment :\\n    [D520000] Statement of cash flows, indirect method - Consolidated financial statements (Unit: KRW)  \\\\\\n                                                                                             label_ko   \\n0                                          영업활동현금흐름\\\\n                                                   \\n1                                         당기순이익(손실)\\\\n                                                   \\n2                                    당기순이익조정을 위한 가감\\\\n                                                   \\n3                                              퇴직급여\\\\n                                                   \\n4                                             감가상각비\\\\n                                                   \\n..                                                ...                                                   \\n60                                         자기주식의 취득\\\\n                                                   \\n61                              현금및현금성자산에 대한 환율변동효과\\\\n                                                   \\n62                                 현금및현금성자산의순증가(감소)\\\\n                                                   \\n63                                       기초현금및현금성자산\\\\n                                                   \\n64                                       기말현금및현금성자산\\\\n                                                   \\n\\n   20230101-20230630                  20220101-20220630                   \\n           (연결재무제표,)        (별도재무제표,)         (연결재무제표,)        (별도재무제표,)  \\n0    23157922124.0\\\\n  19961582310.0\\\\n   18980063585.0\\\\n  30387805666.0\\\\n  \\n1   -11581992859.0\\\\n  14269334792.0\\\\n   14438264659.0\\\\n   4443234916.0\\\\n  \\n2    23654828396.0\\\\n  19423817991.0\\\\n   42363702271.0\\\\n  31256089838.0\\\\n  \\n3       63837390.0\\\\n     63837390.0\\\\n      89960642.0\\\\n     89960642.0\\\\n  \\n4    20060076726.0\\\\n  13705807279.0\\\\n   20351452256.0\\\\n  13549231956.0\\\\n  \\n..               ...              ...               ...              ...  \\n60             nan\\\\n            nan\\\\n    1745622900.0\\\\n   1745622900.0\\\\n  \\n61     757604431.0\\\\n    299884113.0\\\\n    1145419137.0\\\\n    638189307.0\\\\n  \\n62    7535660922.0\\\\n   6531880507.0\\\\n   30258204232.0\\\\n  27417311513.0\\\\n  \\n63   20627097681.0\\\\n  10074855328.0\\\\n   12811974470.0\\\\n   9547470131.0\\\\n  \\n64   28162758603.0\\\\n  16606735835.0\\\\n   43070178702.0\\\\n  36964781644.0\\\\n  \\n\\n[65 rows x 5 columns]', 'Corporation Code[ 00220561] Cash flow Statment :\\n Before to use this tool, retrieve the company code(corp_code) from the searchCorpCodeFromCompanyName tool instead of using stock_code - 6 digit.', 'Corporation Code[ 00108977] Cash flow Statment :\\n Before to use this tool, retrieve the company code(corp_code) from the searchCorpCodeFromCompanyName tool instead of using stock_code - 6 digit.']\n",
      "\n",
      "Observation: ['Corporation Code[00101628] Cash flow Statment :\\n    [D520000] Statement of cash flows, indirect method - Consolidated financial statements (Unit: KRW)  \\\\\\n                                                                                             label_ko   \\n0                                          영업활동현금흐름\\\\n                                                   \\n1                                         당기순이익(손실)\\\\n                                                   \\n2                                    당기순이익조정을 위한 가감\\\\n                                                   \\n3                                              퇴직급여\\\\n                                                   \\n4                                             감가상각비\\\\n                                                   \\n..                                                ...                                                   \\n60                                         자기주식의 취득\\\\n                                                   \\n61                              현금및현금성자산에 대한 환율변동효과\\\\n                                                   \\n62                                 현금및현금성자산의순증가(감소)\\\\n                                                   \\n63                                       기초현금및현금성자산\\\\n                                                   \\n64                                       기말현금및현금성자산\\\\n                                                   \\n\\n   20230101-20230630                  20220101-20220630                   \\n           (연결재무제표,)        (별도재무제표,)         (연결재무제표,)        (별도재무제표,)  \\n0    23157922124.0\\\\n  19961582310.0\\\\n   18980063585.0\\\\n  30387805666.0\\\\n  \\n1   -11581992859.0\\\\n  14269334792.0\\\\n   14438264659.0\\\\n   4443234916.0\\\\n  \\n2    23654828396.0\\\\n  19423817991.0\\\\n   42363702271.0\\\\n  31256089838.0\\\\n  \\n3       63837390.0\\\\n     63837390.0\\\\n      89960642.0\\\\n     89960642.0\\\\n  \\n4    20060076726.0\\\\n  13705807279.0\\\\n   20351452256.0\\\\n  13549231956.0\\\\n  \\n..               ...              ...               ...              ...  \\n60             nan\\\\n            nan\\\\n    1745622900.0\\\\n   1745622900.0\\\\n  \\n61     757604431.0\\\\n    299884113.0\\\\n    1145419137.0\\\\n    638189307.0\\\\n  \\n62    7535660922.0\\\\n   6531880507.0\\\\n   30258204232.0\\\\n  27417311513.0\\\\n  \\n63   20627097681.0\\\\n  10074855328.0\\\\n   12811974470.0\\\\n   9547470131.0\\\\n  \\n64   28162758603.0\\\\n  16606735835.0\\\\n   43070178702.0\\\\n  36964781644.0\\\\n  \\n\\n[65 rows x 5 columns]', 'Corporation Code[ 00220561] Cash flow Statment :\\n Before to use this tool, retrieve the company code(corp_code) from the searchCorpCodeFromCompanyName tool instead of using stock_code - 6 digit.', 'Corporation Code[ 00108977] Cash flow Statment :\\n Before to use this tool, retrieve the company code(corp_code) from the searchCorpCodeFromCompanyName tool instead of using stock_code - 6 digit.']\n",
      "Thought: The cash flow statements of other 3 major companies in the same industry as 이마트 are as follows:\n",
      "경방: 20230101-20230630                  20220101-20220630                   \n",
      "           (연결재무제표,)        (별도재무제표,)         (연결재무제표,)        (별도재무제표,)  \n",
      "0    23157922124.0\\\\n  19961582310.0\\\\n   18980063585.0\\\\n  30387805666.0\\\\n  \n",
      "1   -11581992859.0\\\\n  14269334792.0\\\\n   14438264659.0\\\\n   4443234916.0\\\\n  \n",
      "2    23654828396.0\\\\n  19423817991.0\\\\n   42363702271.0\\\\n  31256089838.0\\\\n  \n",
      "3       63837390.0\\\\n     63837390.0\\\\n      89960642.0\\\\n     89960642.0\\\\n  \n",
      "4    20060076726.0\\\\n  13705807279.0\\\\n   20351452256.0\\\\n  13549231956.0\\\\n  \n",
      "..               ...              ...               ...              ...  \n",
      "60             nan\\\\n            nan\\\\n    1745622900.0\\\\n   1745622900.0\\\\n  \n",
      "61     757604431.0\\\\n    299884113.0\\\\n    1145419137.0\\\\n    638189307.0\\\\n  \n",
      "62    7535660922.0\\\\n   6531880507.0\\\\n   30258204232.0\\\\n  27417311513.0\\\\n  \n",
      "63   20627097681.0\\\\n  10074855328.0\\\\n   12811974470.0\\\\n   9547470131.0\\\\n  \n",
      "64   28162758603.0\\\\n  16606735835.0\\\\n   43070178702.0\\\\n  36964781644.0\\\\n  \n",
      "\\n\\n[65 rows x 5 columns]\n",
      "광주신세계: Before to use this tool, retrieve the company code(corp_code) from the searchCorpCodeFromCompanyName tool instead of using stock_code - 6 digit.\n",
      "대구백화점: Before to use this tool, retrieve the company code(corp_code) from the searchCorpCodeFromCompanyName tool instead of using stock_code - 6 digit.\n",
      "Final Answer: The cash flow statements of other 3 major companies in the same industry as 이마트 are as follows:\n",
      "경방: 20230101-20230630                  20220101-20220630                   \n",
      "           (연결재무제표,)        (별도재무제표,)         (연결재무제표,)        (별도재무제표,)  \n",
      "0    23157922124.0\\\\n  19961582310.0\\\\n   18980063585.0\\\\n  30387805666.0\\\\n  \n",
      "1   -11581992859.0\\\\n  14269334792.0\\\\n   14438264659.0\\\\n   4443234916.0\\\\n  \n",
      "2    23654828396.0\\\\n  19423817991.0\\\\n   42363702271.0\\\\n  31256089838.0\\\\n  \n",
      "3       63837390.0\\\\n     63837390.0\\\\n      89960642.0\\\\n     89960642.0\\\\n  \n",
      "4    20060076726.0\\\\n  13705807279.0\\\\n   20351452256.0\\\\n  13549231956.0\\\\n  \n",
      "..               ...              ...               ...              ...  \n",
      "60             nan\\\\n            nan\\\\n    1745622900.0\\\\n   1745622900.0\\\\n  \n",
      "61     757604431.0\\\\n    299884113.0\\\\n    1145419137.0\\\\n    638189307.0\\\\n  \n",
      "62    7535660922.0\\\\n   6531880507.0\\\\n   30258204232.0\\\\n  27417311513.0\\\\n  \n",
      "63   20627097681.0\\\\n  10074855328.0\\\\n   12811974470.0\\\\n   9547470131.0\\\\n  \n",
      "64   28162758603.0\\\\n  16606735835.0\\\\n   43070178702.0\\\\n  36964781644.0\\\\n  \n",
      "\\n\\n[65 rows x 5 columns]\n",
      "광주신세계: Before to use this tool, retrieve the company code(corp_code) from the searchCorpCodeFromCompanyName tool instead of using stock_code - 6 digit.\n",
      "대구백화점: Before to use this tool, retrieve the company code(corp_code) from the searchCorpCodeFromCompanyName tool instead of using stock_code - 6 digit.\n",
      "\n",
      "> Finished chain.\n"
     ]
    },
    {
     "data": {
      "text/plain": [
       "'The cash flow statements of other 3 major companies in the same industry as 이마트 are as follows:\\n경방: 20230101-20230630                  20220101-20220630                   \\n           (연결재무제표,)        (별도재무제표,)         (연결재무제표,)        (별도재무제표,)  \\n0    23157922124.0\\\\\\\\n  19961582310.0\\\\\\\\n   18980063585.0\\\\\\\\n  30387805666.0\\\\\\\\n  \\n1   -11581992859.0\\\\\\\\n  14269334792.0\\\\\\\\n   14438264659.0\\\\\\\\n   4443234916.0\\\\\\\\n  \\n2    23654828396.0\\\\\\\\n  19423817991.0\\\\\\\\n   42363702271.0\\\\\\\\n  31256089838.0\\\\\\\\n  \\n3       63837390.0\\\\\\\\n     63837390.0\\\\\\\\n      89960642.0\\\\\\\\n     89960642.0\\\\\\\\n  \\n4    20060076726.0\\\\\\\\n  13705807279.0\\\\\\\\n   20351452256.0\\\\\\\\n  13549231956.0\\\\\\\\n  \\n..               ...              ...               ...              ...  \\n60             nan\\\\\\\\n            nan\\\\\\\\n    1745622900.0\\\\\\\\n   1745622900.0\\\\\\\\n  \\n61     757604431.0\\\\\\\\n    299884113.0\\\\\\\\n    1145419137.0\\\\\\\\n    638189307.0\\\\\\\\n  \\n62    7535660922.0\\\\\\\\n   6531880507.0\\\\\\\\n   30258204232.0\\\\\\\\n  27417311513.0\\\\\\\\n  \\n63   20627097681.0\\\\\\\\n  10074855328.0\\\\\\\\n   12811974470.0\\\\\\\\n   9547470131.0\\\\\\\\n  \\n64   28162758603.0\\\\\\\\n  16606735835.0\\\\\\\\n   43070178702.0\\\\\\\\n  36964781644.0\\\\\\\\n  \\n\\\\n\\\\n[65 rows x 5 columns]\\n광주신세계: Before to use this tool, retrieve the company code(corp_code) from the searchCorpCodeFromCompanyName tool instead of using stock_code - 6 digit.\\n대구백화점: Before to use this tool, retrieve the company code(corp_code) from the searchCorpCodeFromCompanyName tool instead of using stock_code - 6 digit.'"
      ]
     },
     "execution_count": 18,
     "metadata": {},
     "output_type": "execute_result"
    }
   ],
   "source": [
    "from pydantic import BaseModel, Field\n",
    "from langchain.agents import AgentType, initialize_agent\n",
    "\n",
    "agent = initialize_agent(\n",
    "    tools, llm, agent=AgentType.ZERO_SHOT_REACT_DESCRIPTION, verbose=True\n",
    ")\n",
    "\n",
    "agent.run(\"I would like to know the overall cash flow of other 3 major companies in the same industry as 이마트.\")\n"
   ]
  },
  {
   "cell_type": "code",
   "execution_count": null,
   "metadata": {},
   "outputs": [],
   "source": []
  }
 ],
 "metadata": {
  "kernelspec": {
   "display_name": "sales-autobot",
   "language": "python",
   "name": "python3"
  },
  "language_info": {
   "codemirror_mode": {
    "name": "ipython",
    "version": 3
   },
   "file_extension": ".py",
   "mimetype": "text/x-python",
   "name": "python",
   "nbconvert_exporter": "python",
   "pygments_lexer": "ipython3",
   "version": "3.9.6"
  }
 },
 "nbformat": 4,
 "nbformat_minor": 2
}
